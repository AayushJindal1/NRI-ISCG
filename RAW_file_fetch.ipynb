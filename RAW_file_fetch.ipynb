{
  "nbformat": 4,
  "nbformat_minor": 0,
  "metadata": {
    "colab": {
      "provenance": [],
      "authorship_tag": "ABX9TyPySFHyuTJl2p5Dl9eCQLwB",
      "include_colab_link": true
    },
    "kernelspec": {
      "name": "python3",
      "display_name": "Python 3"
    },
    "language_info": {
      "name": "python"
    }
  },
  "cells": [
    {
      "cell_type": "markdown",
      "metadata": {
        "id": "view-in-github",
        "colab_type": "text"
      },
      "source": [
        "<a href=\"https://colab.research.google.com/github/AayushJindal1/NRI-ISCG/blob/main/RAW_file_fetch.ipynb\" target=\"_parent\"><img src=\"https://colab.research.google.com/assets/colab-badge.svg\" alt=\"Open In Colab\"/></a>"
      ]
    },
    {
      "cell_type": "code",
      "execution_count": 4,
      "metadata": {
        "colab": {
          "base_uri": "https://localhost:8080/"
        },
        "id": "VRTMYfFyiOj5",
        "outputId": "53432f6b-dd20-4912-c46c-cf6009c1ebe9"
      },
      "outputs": [
        {
          "output_type": "stream",
          "name": "stdout",
          "text": [
            "\u001b[2K   \u001b[90m━━━━━━━━━━━━━━━━━━━━━━━━━━━━━━━━━━━━━━━━\u001b[0m \u001b[32m13.0/13.0 MB\u001b[0m \u001b[31m100.9 MB/s\u001b[0m eta \u001b[36m0:00:00\u001b[0m\n",
            "\u001b[?25h✅ pandas version: 2.2.2\n"
          ]
        }
      ],
      "source": [
        "!pip install -q --upgrade pandas==2.2.2 requests\n",
        "import importlib, pandas as pd; importlib.reload(pd)\n",
        "print(\"✅ pandas version:\", pd.__version__)\n"
      ]
    },
    {
      "cell_type": "markdown",
      "source": [
        "GDP"
      ],
      "metadata": {
        "id": "6UcUe1Rf5c6B"
      }
    },
    {
      "cell_type": "code",
      "source": [
        "import requests, zipfile, io, pathlib, datetime as dt, pandas as pd, shutil\n",
        "\n",
        "# ---------------------------------------------------------------------------\n",
        "# CONFIG\n",
        "# ---------------------------------------------------------------------------\n",
        "WB_URL   = \"https://api.worldbank.org/v2/en/indicator/NY.GDP.MKTP.CD?downloadformat=csv\"\n",
        "today    = dt.date.today().strftime(\"%Y%m%d\")\n",
        "RAW_DIR  = pathlib.Path('/content/drive/MyDrive/WorldBank/India/GDP/raw')\n",
        "PROC_DIR = pathlib.Path('/content/drive/MyDrive/WorldBank/India/GDP/processed')\n",
        "\n",
        "RAW_DIR.mkdir(parents=True, exist_ok=True)\n",
        "PROC_DIR.mkdir(parents=True, exist_ok=True)\n",
        "\n",
        "# ---------------------------------------------------------------------------\n",
        "# 1. Download ZIP into memory  →  extract CSV to RAW_DIR\n",
        "# ---------------------------------------------------------------------------\n",
        "print(\"▶ Fetching ZIP …\")\n",
        "resp = requests.get(WB_URL, timeout=120)\n",
        "resp.raise_for_status()\n",
        "\n",
        "with zipfile.ZipFile(io.BytesIO(resp.content)) as z:\n",
        "    csv_name = next(n for n in z.namelist() if n.startswith('API_') and n.endswith('.csv'))\n",
        "    raw_csv_path = RAW_DIR / f\"gdp_raw_{today}.csv\"\n",
        "    with z.open(csv_name) as src, open(raw_csv_path, 'wb') as tgt:\n",
        "        shutil.copyfileobj(src, tgt)\n",
        "print(\"✓ Extracted CSV →\", raw_csv_path.name)\n",
        "\n",
        "# ---------------------------------------------------------------------------\n",
        "# 2. Clean / reshape (all countries, all years)\n",
        "# ---------------------------------------------------------------------------\n",
        "df = pd.read_csv(raw_csv_path, skiprows=4)                      # skip WB metadata lines\n",
        "df = df.drop(columns=['Country Code', 'Indicator Name', 'Indicator Code'])\n",
        "\n",
        "tidy = (\n",
        "    df.melt(id_vars='Country Name', var_name='year', value_name='gdp_usd_billions')\n",
        "      .rename(columns={'Country Name': 'country'})\n",
        ")\n",
        "tidy['year']              = pd.to_numeric(tidy['year'], errors='coerce').astype('Int64')\n",
        "tidy['gdp_usd_billions']  = pd.to_numeric(tidy['gdp_usd_billions'], errors='coerce')\n",
        "tidy = tidy.dropna(subset=['gdp_usd_billions']).reset_index(drop=True)\n",
        "\n",
        "# ---------------------------------------------------------------------------\n",
        "# 3. Keep processed folder clean: delete old file(s) then save the new one\n",
        "# ---------------------------------------------------------------------------\n",
        "for old in PROC_DIR.glob('*.csv'):\n",
        "    old.unlink()\n",
        "\n",
        "proc_file = PROC_DIR / f\"global_gdp_{tidy['year'].min()}_{tidy['year'].max()}.csv\"\n",
        "tidy.to_csv(proc_file, index=False)\n",
        "print(\"🚚 Clean CSV saved →\", proc_file.name)\n",
        "\n",
        "# ---------------------------------------------------------------------------\n",
        "# 4. Remove ZIP from memory (already gone)  | RAW_DIR now holds just raw CSV\n",
        "# ---------------------------------------------------------------------------\n",
        "print(\"\\nRAW folder contents:\", [p.name for p in RAW_DIR.glob('*')])\n",
        "print(\"PROC folder contents:\", [p.name for p in PROC_DIR.glob('*')])\n"
      ],
      "metadata": {
        "colab": {
          "base_uri": "https://localhost:8080/"
        },
        "id": "RCm1MLLd02vT",
        "outputId": "4065c69b-eb62-4b0c-b092-bc23ac6370c9"
      },
      "execution_count": 13,
      "outputs": [
        {
          "output_type": "stream",
          "name": "stdout",
          "text": [
            "▶ Fetching ZIP …\n",
            "✓ Extracted CSV → gdp_raw_20250513.csv\n",
            "🚚 Clean CSV saved → global_gdp_1960_2023.csv\n",
            "\n",
            "RAW folder contents: ['gdp_raw_20250513.csv']\n",
            "PROC folder contents: ['global_gdp_1960_2023.csv']\n"
          ]
        }
      ]
    },
    {
      "cell_type": "markdown",
      "source": [
        "GDP PER CAPITA"
      ],
      "metadata": {
        "id": "ZAjFsjqT5gke"
      }
    },
    {
      "cell_type": "markdown",
      "source": [],
      "metadata": {
        "id": "r8gtB2425ghA"
      }
    },
    {
      "cell_type": "code",
      "source": [
        "import requests, zipfile, io, pathlib, datetime as dt, pandas as pd, shutil\n",
        "\n",
        "# ---------------------------------------------------------------------------\n",
        "# CONFIG for “GDP per Capita”\n",
        "# ---------------------------------------------------------------------------\n",
        "CODE       = \"NY.GDP.PCAP.CD\"\n",
        "IND_FOLDER = \"GDP_per_capita\"               # folder-friendly slug\n",
        "WB_URL     = f\"https://api.worldbank.org/v2/en/indicator/{CODE}?downloadformat=csv\"\n",
        "\n",
        "today   = dt.date.today().strftime(\"%Y%m%d\")\n",
        "BASE    = pathlib.Path('/content/drive/MyDrive/WorldBank')\n",
        "RAW_DIR = BASE / 'India' / IND_FOLDER / 'raw'         # keep country in path if you like\n",
        "PROC_DIR= BASE / 'India' / IND_FOLDER / 'processed'\n",
        "\n",
        "RAW_DIR.mkdir(parents=True, exist_ok=True)\n",
        "PROC_DIR.mkdir(parents=True, exist_ok=True)\n",
        "\n",
        "# ---------------------------------------------------------------------------\n",
        "# 1. Download ZIP → save raw CSV (delete ZIP)\n",
        "# ---------------------------------------------------------------------------\n",
        "print(f\"\\n▶ Fetching {CODE} ZIP …\")\n",
        "resp = requests.get(WB_URL, timeout=120)\n",
        "resp.raise_for_status()\n",
        "\n",
        "with zipfile.ZipFile(io.BytesIO(resp.content)) as z:\n",
        "    csv_name = next(n for n in z.namelist() if n.startswith('API_') and n.endswith('.csv'))\n",
        "    raw_csv_path = RAW_DIR / f\"{CODE}_raw_{today}.csv\"\n",
        "    with z.open(csv_name) as src, open(raw_csv_path, 'wb') as tgt:\n",
        "        shutil.copyfileobj(src, tgt)\n",
        "print(\"✓ Extracted →\", raw_csv_path.name)\n",
        "\n",
        "# ---------------------------------------------------------------------------\n",
        "# 2. Clean / reshape (all countries, all years)\n",
        "# ---------------------------------------------------------------------------\n",
        "df = pd.read_csv(raw_csv_path, skiprows=4)\n",
        "df = df.drop(columns=['Country Code', 'Indicator Name', 'Indicator Code'])\n",
        "\n",
        "tidy = (\n",
        "    df.melt(id_vars='Country Name', var_name='year', value_name='gdp_per_capita_usd')\n",
        "      .rename(columns={'Country Name': 'country'})\n",
        ")\n",
        "\n",
        "tidy['year']              = pd.to_numeric(tidy['year'], errors='coerce').astype('Int64')\n",
        "tidy['gdp_per_capita_usd']= pd.to_numeric(tidy['gdp_per_capita_usd'], errors='coerce')\n",
        "tidy = tidy.dropna(subset=['gdp_per_capita_usd']).reset_index(drop=True)\n",
        "\n",
        "# ---------------------------------------------------------------------------\n",
        "# 3. Keep processed folder clean: delete old & write one fresh file\n",
        "# ---------------------------------------------------------------------------\n",
        "for old in PROC_DIR.glob('*.csv'):\n",
        "    old.unlink()\n",
        "\n",
        "proc_file = PROC_DIR / f\"global_gdp_per_capita_{tidy['year'].min()}_{tidy['year'].max()}.csv\"\n",
        "tidy.to_csv(proc_file, index=False)\n",
        "print(\"🚚 Clean per‑capita GDP saved →\", proc_file.name)\n",
        "\n",
        "# ---------------------------------------------------------------------------\n",
        "print(\"RAW  :\", [p.name for p in RAW_DIR.glob('*')])\n",
        "print(\"PROC :\", [p.name for p in PROC_DIR.glob('*')])\n"
      ],
      "metadata": {
        "colab": {
          "base_uri": "https://localhost:8080/"
        },
        "id": "ypDUSHRu4yS9",
        "outputId": "5d4d0733-033f-48ab-c016-fe16385ad237"
      },
      "execution_count": 14,
      "outputs": [
        {
          "output_type": "stream",
          "name": "stdout",
          "text": [
            "\n",
            "▶ Fetching NY.GDP.PCAP.CD ZIP …\n",
            "✓ Extracted → NY.GDP.PCAP.CD_raw_20250513.csv\n",
            "🚚 Clean per‑capita GDP saved → global_gdp_per_capita_1960_2023.csv\n",
            "RAW  : ['NY.GDP.PCAP.CD_raw_20250513.csv']\n",
            "PROC : ['global_gdp_per_capita_1960_2023.csv']\n"
          ]
        }
      ]
    },
    {
      "cell_type": "markdown",
      "source": [
        "GDP GROWTH"
      ],
      "metadata": {
        "id": "f8Cc_yJj5i0e"
      }
    },
    {
      "cell_type": "code",
      "source": [
        "import requests, zipfile, io, pathlib, datetime as dt, pandas as pd, shutil\n",
        "\n",
        "# ---------------------------------------------------------------------------\n",
        "# CONFIG  ➜ GDP Growth (% annual) --------------------------------------------\n",
        "# ---------------------------------------------------------------------------\n",
        "CODE        = \"NY.GDP.MKTP.KD.ZG\"\n",
        "IND_FOLDER  = \"GDP_growth\"                       # folder-friendly slug\n",
        "WB_URL      = f\"https://api.worldbank.org/v2/en/indicator/{CODE}?downloadformat=csv\"\n",
        "\n",
        "today    = dt.date.today().strftime(\"%Y%m%d\")\n",
        "BASE     = pathlib.Path('/content/drive/MyDrive/WorldBank')\n",
        "RAW_DIR  = BASE / 'India' / IND_FOLDER / 'raw'\n",
        "PROC_DIR = BASE / 'India' / IND_FOLDER / 'processed'\n",
        "\n",
        "RAW_DIR.mkdir(parents=True, exist_ok=True)\n",
        "PROC_DIR.mkdir(parents=True, exist_ok=True)\n",
        "\n",
        "# ---------------------------------------------------------------------------\n",
        "# 1. Download ZIP → save raw CSV (delete ZIP contents thereafter)\n",
        "# ---------------------------------------------------------------------------\n",
        "print(f\"\\n▶ Fetching {CODE} ZIP …\")\n",
        "resp = requests.get(WB_URL, timeout=120)\n",
        "resp.raise_for_status()\n",
        "\n",
        "with zipfile.ZipFile(io.BytesIO(resp.content)) as z:\n",
        "    csv_name = next(n for n in z.namelist() if n.startswith('API_') and n.endswith('.csv'))\n",
        "    raw_csv_path = RAW_DIR / f\"{CODE}_raw_{today}.csv\"\n",
        "    with z.open(csv_name) as src, open(raw_csv_path, 'wb') as tgt:\n",
        "        shutil.copyfileobj(src, tgt)\n",
        "print(\"✓ Extracted →\", raw_csv_path.name)\n",
        "\n",
        "# ---------------------------------------------------------------------------\n",
        "# 2. Clean / reshape for *all* countries & years\n",
        "# ---------------------------------------------------------------------------\n",
        "df = pd.read_csv(raw_csv_path, skiprows=4)\n",
        "df = df.drop(columns=['Country Code', 'Indicator Name', 'Indicator Code'])\n",
        "\n",
        "tidy = (\n",
        "    df.melt(id_vars='Country Name', var_name='year', value_name='gdp_growth_pct')\n",
        "      .rename(columns={'Country Name': 'country'})\n",
        ")\n",
        "\n",
        "tidy['year']            = pd.to_numeric(tidy['year'], errors='coerce').astype('Int64')\n",
        "tidy['gdp_growth_pct']  = pd.to_numeric(tidy['gdp_growth_pct'], errors='coerce')\n",
        "tidy = tidy.dropna(subset=['gdp_growth_pct']).reset_index(drop=True)\n",
        "\n",
        "# ---------------------------------------------------------------------------\n",
        "# 3. Keep processed folder clean → delete old, write new\n",
        "# ---------------------------------------------------------------------------\n",
        "for old in PROC_DIR.glob('*.csv'):\n",
        "    old.unlink()\n",
        "\n",
        "proc_file = PROC_DIR / f\"global_gdp_growth_{tidy['year'].min()}_{tidy['year'].max()}.csv\"\n",
        "tidy.to_csv(proc_file, index=False)\n",
        "print(\"🚚 Clean GDP‑growth CSV saved →\", proc_file.name)\n",
        "\n",
        "# ---------------------------------------------------------------------------\n",
        "print(\"RAW  :\", [p.name for p in RAW_DIR.glob('*')])\n",
        "print(\"PROC :\", [p.name for p in PROC_DIR.glob('*')])\n"
      ],
      "metadata": {
        "colab": {
          "base_uri": "https://localhost:8080/"
        },
        "id": "nYDWWXS35orh",
        "outputId": "6159614d-1922-4504-99fc-e5eba491951e"
      },
      "execution_count": 15,
      "outputs": [
        {
          "output_type": "stream",
          "name": "stdout",
          "text": [
            "\n",
            "▶ Fetching NY.GDP.MKTP.KD.ZG ZIP …\n",
            "✓ Extracted → NY.GDP.MKTP.KD.ZG_raw_20250513.csv\n",
            "🚚 Clean GDP‑growth CSV saved → global_gdp_growth_1961_2023.csv\n",
            "RAW  : ['NY.GDP.MKTP.KD.ZG_raw_20250513.csv']\n",
            "PROC : ['global_gdp_growth_1961_2023.csv']\n"
          ]
        }
      ]
    },
    {
      "cell_type": "markdown",
      "source": [
        "INFLATION"
      ],
      "metadata": {
        "id": "NjJoNNKa6ID0"
      }
    },
    {
      "cell_type": "code",
      "source": [
        "import requests, zipfile, io, pathlib, datetime as dt, pandas as pd, shutil\n",
        "\n",
        "# ---------------------------------------------------------------------------\n",
        "# CONFIG  ➜ Inflation (% annual CPI) -----------------------------------------\n",
        "# ---------------------------------------------------------------------------\n",
        "CODE        = \"FP.CPI.TOTL.ZG\"\n",
        "IND_FOLDER  = \"Inflation_CPI\"                       # folder-friendly slug\n",
        "WB_URL      = f\"https://api.worldbank.org/v2/en/indicator/{CODE}?downloadformat=csv\"\n",
        "\n",
        "today    = dt.date.today().strftime(\"%Y%m%d\")\n",
        "BASE     = pathlib.Path('/content/drive/MyDrive/WorldBank')\n",
        "RAW_DIR  = BASE / 'India' / IND_FOLDER / 'raw'\n",
        "PROC_DIR = BASE / 'India' / IND_FOLDER / 'processed'\n",
        "\n",
        "RAW_DIR.mkdir(parents=True, exist_ok=True)\n",
        "PROC_DIR.mkdir(parents=True, exist_ok=True)\n",
        "\n",
        "# ---------------------------------------------------------------------------\n",
        "# 1. Download ZIP → save raw CSV\n",
        "# ---------------------------------------------------------------------------\n",
        "print(f\"\\n▶ Fetching {CODE} ZIP …\")\n",
        "resp = requests.get(WB_URL, timeout=120)\n",
        "resp.raise_for_status()\n",
        "\n",
        "with zipfile.ZipFile(io.BytesIO(resp.content)) as z:\n",
        "    csv_name = next(n for n in z.namelist() if n.startswith('API_') and n.endswith('.csv'))\n",
        "    raw_csv_path = RAW_DIR / f\"{CODE}_raw_{today}.csv\"\n",
        "    with z.open(csv_name) as src, open(raw_csv_path, 'wb') as tgt:\n",
        "        shutil.copyfileobj(src, tgt)\n",
        "print(\"✓ Extracted →\", raw_csv_path.name)\n",
        "\n",
        "# ---------------------------------------------------------------------------\n",
        "# 2. Clean / reshape (all countries, all years)\n",
        "# ---------------------------------------------------------------------------\n",
        "df = pd.read_csv(raw_csv_path, skiprows=4)\n",
        "df = df.drop(columns=['Country Code', 'Indicator Name', 'Indicator Code'])\n",
        "\n",
        "tidy = (\n",
        "    df.melt(id_vars='Country Name', var_name='year', value_name='inflation_pct')\n",
        "      .rename(columns={'Country Name': 'country'})\n",
        ")\n",
        "\n",
        "tidy['year']          = pd.to_numeric(tidy['year'], errors='coerce').astype('Int64')\n",
        "tidy['inflation_pct'] = pd.to_numeric(tidy['inflation_pct'], errors='coerce')\n",
        "tidy = tidy.dropna(subset=['inflation_pct']).reset_index(drop=True)\n",
        "\n",
        "# ---------------------------------------------------------------------------\n",
        "# 3. Keep processed folder clean: delete old & save new\n",
        "# ---------------------------------------------------------------------------\n",
        "for old in PROC_DIR.glob('*.csv'):\n",
        "    old.unlink()\n",
        "\n",
        "proc_file = PROC_DIR / f\"global_inflation_{tidy['year'].min()}_{tidy['year'].max()}.csv\"\n",
        "tidy.to_csv(proc_file, index=False)\n",
        "print(\"🚚 Clean inflation CSV saved →\", proc_file.name)\n",
        "\n",
        "# ---------------------------------------------------------------------------\n",
        "print(\"RAW  :\", [p.name for p in RAW_DIR.glob('*')])\n",
        "print(\"PROC :\", [p.name for p in PROC_DIR.glob('*')])\n"
      ],
      "metadata": {
        "colab": {
          "base_uri": "https://localhost:8080/"
        },
        "id": "bd4gAqqn6JYv",
        "outputId": "449dd4be-06d8-4a0d-a56d-b1762c482d85"
      },
      "execution_count": 16,
      "outputs": [
        {
          "output_type": "stream",
          "name": "stdout",
          "text": [
            "\n",
            "▶ Fetching FP.CPI.TOTL.ZG ZIP …\n",
            "✓ Extracted → FP.CPI.TOTL.ZG_raw_20250513.csv\n",
            "🚚 Clean inflation CSV saved → global_inflation_1960_2024.csv\n",
            "RAW  : ['FP.CPI.TOTL.ZG_raw_20250513.csv']\n",
            "PROC : ['global_inflation_1960_2024.csv']\n"
          ]
        }
      ]
    }
  ]
}