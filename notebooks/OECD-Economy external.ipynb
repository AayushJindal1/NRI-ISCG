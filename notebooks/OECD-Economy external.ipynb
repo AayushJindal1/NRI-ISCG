{
 "cells": [
  {
   "cell_type": "code",
   "execution_count": 1,
   "id": "6c568b60",
   "metadata": {
    "colab": {
     "base_uri": "https://localhost:8080/"
    },
    "execution": {
     "iopub.execute_input": "2025-08-03T16:20:22.080614Z",
     "iopub.status.busy": "2025-08-03T16:20:22.080305Z",
     "iopub.status.idle": "2025-08-03T16:20:30.570872Z",
     "shell.execute_reply": "2025-08-03T16:20:30.570134Z"
    },
    "executionInfo": {
     "elapsed": 11677,
     "status": "ok",
     "timestamp": 1747228470118,
     "user": {
      "displayName": "Aayush",
      "userId": "06063773002916323156"
     },
     "user_tz": -330
    },
    "id": "yin62ZkQ6ZF0",
    "outputId": "62da4565-bfea-41ab-ccb8-a74a72e0585d",
    "papermill": {
     "duration": 10.07248,
     "end_time": "2025-05-16T04:06:06.918316",
     "exception": false,
     "start_time": "2025-05-16T04:05:56.845836",
     "status": "completed"
    },
    "tags": []
   },
   "outputs": [
    {
     "name": "stdout",
     "output_type": "stream",
     "text": [
      "\r\n",
      "\u001b[1m[\u001b[0m\u001b[34;49mnotice\u001b[0m\u001b[1;39;49m]\u001b[0m\u001b[39;49m A new release of pip is available: \u001b[0m\u001b[31;49m25.1.1\u001b[0m\u001b[39;49m -> \u001b[0m\u001b[32;49m25.2\u001b[0m\r\n",
      "\u001b[1m[\u001b[0m\u001b[34;49mnotice\u001b[0m\u001b[1;39;49m]\u001b[0m\u001b[39;49m To update, run: \u001b[0m\u001b[32;49mpip install --upgrade pip\u001b[0m\r\n"
     ]
    },
    {
     "ename": "ModuleNotFoundError",
     "evalue": "No module named 'google'",
     "output_type": "error",
     "traceback": [
      "\u001b[0;31m---------------------------------------------------------------------------\u001b[0m",
      "\u001b[0;31mModuleNotFoundError\u001b[0m                       Traceback (most recent call last)",
      "Cell \u001b[0;32mIn[1], line 3\u001b[0m\n\u001b[1;32m      1\u001b[0m \u001b[38;5;66;03m# 1. Install & mount\u001b[39;00m\n\u001b[1;32m      2\u001b[0m get_ipython()\u001b[38;5;241m.\u001b[39msystem(\u001b[38;5;124m'\u001b[39m\u001b[38;5;124mpip -q install --upgrade pandas==2.2.2 requests\u001b[39m\u001b[38;5;124m'\u001b[39m)\n\u001b[0;32m----> 3\u001b[0m \u001b[38;5;28;01mfrom\u001b[39;00m\u001b[38;5;250m \u001b[39m\u001b[38;5;21;01mgoogle\u001b[39;00m\u001b[38;5;21;01m.\u001b[39;00m\u001b[38;5;21;01mcolab\u001b[39;00m\u001b[38;5;250m \u001b[39m\u001b[38;5;28;01mimport\u001b[39;00m drive\n\u001b[1;32m      4\u001b[0m drive\u001b[38;5;241m.\u001b[39mmount(\u001b[38;5;124m\"\u001b[39m\u001b[38;5;124m/content/drive\u001b[39m\u001b[38;5;124m\"\u001b[39m, force_remount\u001b[38;5;241m=\u001b[39m\u001b[38;5;28;01mTrue\u001b[39;00m)\n\u001b[1;32m      6\u001b[0m \u001b[38;5;66;03m# 2. Imports & helper to fetch \"csvfilewithlabels\" (handles ZIP)\u001b[39;00m\n",
      "\u001b[0;31mModuleNotFoundError\u001b[0m: No module named 'google'"
     ]
    }
   ],
   "source": [
    "# 1. Install & mount\n",
    "!pip -q install --upgrade pandas==2.2.2 requests\n",
    "from google.colab import drive\n",
    "drive.mount(\"/content/drive\", force_remount=True)\n",
    "\n",
    "# 2. Imports & helper to fetch \"csvfilewithlabels\" (handles ZIP)\n",
    "import requests, pathlib, io, zipfile, shutil, pandas as pd, re\n",
    "\n",
    "def fetch_csv(url: str, dest: pathlib.Path):\n",
    "    dest.parent.mkdir(parents=True, exist_ok=True)\n",
    "    r = requests.get(url, timeout=180); r.raise_for_status()\n",
    "    if r.content[:4] == b\"PK\\x03\\x04\":              # zipped payload\n",
    "        with zipfile.ZipFile(io.BytesIO(r.content)) as z:\n",
    "            name = next(n for n in z.namelist() if n.endswith(\".csv\"))\n",
    "            with z.open(name) as src, open(dest, \"wb\") as tgt:\n",
    "                shutil.copyfileobj(src, tgt)\n",
    "    else:\n",
    "        dest.write_bytes(r.content)\n"
   ]
  },
  {
   "cell_type": "code",
   "execution_count": 2,
   "id": "56966548",
   "metadata": {
    "colab": {
     "base_uri": "https://localhost:8080/"
    },
    "execution": {
     "iopub.execute_input": "2025-08-03T16:20:30.573107Z",
     "iopub.status.busy": "2025-08-03T16:20:30.572901Z",
     "iopub.status.idle": "2025-08-03T16:20:30.599672Z",
     "shell.execute_reply": "2025-08-03T16:20:30.599080Z"
    },
    "executionInfo": {
     "elapsed": 3466,
     "status": "ok",
     "timestamp": 1747228473596,
     "user": {
      "displayName": "Aayush",
      "userId": "06063773002916323156"
     },
     "user_tz": -330
    },
    "id": "cV35zDhe0h4Z",
    "outputId": "d76e83a8-8e13-42f4-a562-dacaadb37761",
    "papermill": {
     "duration": null,
     "end_time": null,
     "exception": null,
     "start_time": null,
     "status": "completed"
    },
    "tags": []
   },
   "outputs": [
    {
     "ename": "NameError",
     "evalue": "name 'pathlib' is not defined",
     "output_type": "error",
     "traceback": [
      "\u001b[0;31m---------------------------------------------------------------------------\u001b[0m",
      "\u001b[0;31mNameError\u001b[0m                                 Traceback (most recent call last)",
      "Cell \u001b[0;32mIn[2], line 1\u001b[0m\n\u001b[0;32m----> 1\u001b[0m BASE \u001b[38;5;241m=\u001b[39m \u001b[43mpathlib\u001b[49m\u001b[38;5;241m.\u001b[39mPath(\u001b[38;5;124m\"\u001b[39m\u001b[38;5;124m/content/drive/MyDrive/OECD/global/economy_external_sector\u001b[39m\u001b[38;5;124m\"\u001b[39m)\n\u001b[1;32m      2\u001b[0m CONFIG \u001b[38;5;241m=\u001b[39m [\n\u001b[1;32m      3\u001b[0m   \u001b[38;5;66;03m# slug,                URL,                                             out_name,    to_mn,  has_currency,  has_measure_col\u001b[39;00m\n\u001b[1;32m      4\u001b[0m   (\u001b[38;5;124m\"\u001b[39m\u001b[38;5;124mBalance_of_Payments\u001b[39m\u001b[38;5;124m\"\u001b[39m,\n\u001b[0;32m   (...)\u001b[0m\n\u001b[1;32m     24\u001b[0m    \u001b[38;5;124m\"\u001b[39m\u001b[38;5;124mcpi_pct\u001b[39m\u001b[38;5;124m\"\u001b[39m,    \u001b[38;5;28;01mFalse\u001b[39;00m,  \u001b[38;5;28;01mFalse\u001b[39;00m, \u001b[38;5;28;01mFalse\u001b[39;00m),\n\u001b[1;32m     25\u001b[0m ]\n\u001b[1;32m     27\u001b[0m processed \u001b[38;5;241m=\u001b[39m {}\n",
      "\u001b[0;31mNameError\u001b[0m: name 'pathlib' is not defined"
     ]
    }
   ],
   "source": [
    "BASE = pathlib.Path(\"/content/drive/MyDrive/OECD/global/economy_external_sector\")\n",
    "CONFIG = [\n",
    "  # slug,                URL,                                             out_name,    to_mn,  has_currency,  has_measure_col\n",
    "  (\"Balance_of_Payments\",\n",
    "   \"https://sdmx.oecd.org/public/rest/data/\"\n",
    "   \"OECD.SDD.TPS,DSD_BOP@DF_BOP,1.0/.....Q.XDC.Y\"\n",
    "   \"?startPeriod=2024-Q1&dimensionAtObservation=AllDimensions&format=csvfilewithlabels\",\n",
    "   \"bop_usd\",    True,   True,  True),\n",
    "  (\"GFCF\",\n",
    "   \"https://sdmx.oecd.org/public/rest/data/\"\n",
    "   \"OECD.SDD.NAD,DSD_NAMAIN10@DF_TABLE1_EXPENDITURE_GFCF_ASSET,2.0/\"\n",
    "   \"A....P51G....XDC.V..\"\n",
    "   \"?startPeriod=2020&dimensionAtObservation=AllDimensions&format=csvfilewithlabels\",\n",
    "   \"gfcf_usd\",   True,   True,  False),\n",
    "  (\"PPP\",\n",
    "   \"https://sdmx.oecd.org/public/rest/data/\"\n",
    "   \"OECD.SDD.NAD,DSD_NAMAIN10@DF_TABLE4,2.0/A....PPP_B1GQ.......\"\n",
    "   \"?startPeriod=2015&dimensionAtObservation=AllDimensions&format=csvfilewithlabels\",\n",
    "   \"ppp_gdp\",    False,  True,  False),\n",
    "  (\"CPI\",\n",
    "   \"https://sdmx.oecd.org/public/rest/data/\"\n",
    "   \"OECD.SDD.TPS,DSD_PRICES@DF_PRICES_ALL,1.0/.Q.N.CPI.._T.N.GY+_Z\"\n",
    "   \"?startPeriod=2022-Q1&dimensionAtObservation=AllDimensions&format=csvfilewithlabels\",\n",
    "   \"cpi_pct\",    False,  False, False),\n",
    "]\n",
    "\n",
    "processed = {}\n",
    "\n",
    "def time_col(df):\n",
    "    return \"TIME_PERIOD\" if \"TIME_PERIOD\" in df.columns else \"Time period\"\n",
    "\n",
    "for slug, url, out_name, to_mn, has_cur, has_meas in CONFIG:\n",
    "    RAW  = BASE/slug/\"raw\";       PROC = BASE/slug/\"processed\"\n",
    "    for d in (RAW, PROC): d.mkdir(parents=True, exist_ok=True)\n",
    "    # remove old files\n",
    "    for f in RAW.glob(\"*.csv\"): f.unlink()\n",
    "    for f in PROC.glob(\"*.csv\"): f.unlink()\n",
    "\n",
    "    # fetch raw\n",
    "    raw_f = RAW/f\"OECD_{slug}_raw.csv\"\n",
    "    print(f\"▶ {slug}: downloading…\")\n",
    "    fetch_csv(url, raw_f)\n",
    "\n",
    "    df = pd.read_csv(raw_f)\n",
    "    tc = time_col(df)\n",
    "\n",
    "    # select & rename\n",
    "    cols = {\"Reference area\":\"country\", tc:\"time_period\", \"OBS_VALUE\":out_name}\n",
    "    if has_cur: cols[\"Currency\"] = \"currency\"\n",
    "    if has_meas: cols[\"Measure\"]  = \"measure\"\n",
    "\n",
    "    df = df[list(cols)].rename(columns=cols)\n",
    "\n",
    "    # fill defaults\n",
    "    if not has_cur:   df[\"currency\"] = \"X\"\n",
    "    if not has_meas:  df[\"measure\"]  = \"X\"\n",
    "\n",
    "    # units → millions\n",
    "    if to_mn:\n",
    "        df[out_name] = df[out_name] / 1e6\n",
    "\n",
    "    # save processed\n",
    "    proc_f = PROC/f\"OECD_{slug}_clean.csv\"\n",
    "    df.to_csv(proc_f, index=False)\n",
    "    processed[out_name] = proc_f\n",
    "    print(f\"   ✓ {slug} saved → columns: {list(df.columns)}  rows: {len(df)}\")\n"
   ]
  },
  {
   "cell_type": "code",
   "execution_count": 3,
   "id": "8ca00b4f",
   "metadata": {
    "colab": {
     "base_uri": "https://localhost:8080/",
     "height": 224
    },
    "execution": {
     "iopub.execute_input": "2025-08-03T16:20:30.601786Z",
     "iopub.status.busy": "2025-08-03T16:20:30.601533Z",
     "iopub.status.idle": "2025-08-03T16:20:30.622293Z",
     "shell.execute_reply": "2025-08-03T16:20:30.621590Z"
    },
    "executionInfo": {
     "elapsed": 753,
     "status": "ok",
     "timestamp": 1747228474365,
     "user": {
      "displayName": "Aayush",
      "userId": "06063773002916323156"
     },
     "user_tz": -330
    },
    "id": "7JkBgqkr0nlE",
    "outputId": "ecc76be4-9ba0-4ba4-d4ef-941b8281efc2",
    "papermill": {
     "duration": null,
     "end_time": null,
     "exception": null,
     "start_time": null,
     "status": "completed"
    },
    "tags": []
   },
   "outputs": [
    {
     "ename": "NameError",
     "evalue": "name 'processed' is not defined",
     "output_type": "error",
     "traceback": [
      "\u001b[0;31m---------------------------------------------------------------------------\u001b[0m",
      "\u001b[0;31mNameError\u001b[0m                                 Traceback (most recent call last)",
      "Cell \u001b[0;32mIn[3], line 5\u001b[0m\n\u001b[1;32m      3\u001b[0m \u001b[38;5;66;03m# load & harmonize\u001b[39;00m\n\u001b[1;32m      4\u001b[0m frames \u001b[38;5;241m=\u001b[39m []\n\u001b[0;32m----> 5\u001b[0m \u001b[38;5;28;01mfor\u001b[39;00m out_name, path \u001b[38;5;129;01min\u001b[39;00m \u001b[43mprocessed\u001b[49m\u001b[38;5;241m.\u001b[39mitems():\n\u001b[1;32m      6\u001b[0m     df \u001b[38;5;241m=\u001b[39m pd\u001b[38;5;241m.\u001b[39mread_csv(path)\n\u001b[1;32m      7\u001b[0m     \u001b[38;5;66;03m# ensure strings for keys\u001b[39;00m\n",
      "\u001b[0;31mNameError\u001b[0m: name 'processed' is not defined"
     ]
    }
   ],
   "source": [
    "import functools\n",
    "\n",
    "# load & harmonize\n",
    "frames = []\n",
    "for out_name, path in processed.items():\n",
    "    df = pd.read_csv(path)\n",
    "    # ensure strings for keys\n",
    "    for k in [\"country\",\"currency\",\"time_period\",\"measure\"]:\n",
    "        df[k] = df[k].astype(str)\n",
    "    frames.append(df)\n",
    "\n",
    "# merge on 4 keys\n",
    "combined = functools.reduce(\n",
    "    lambda L,R: pd.merge(L, R, on=[\"country\",\"currency\",\"time_period\",\"measure\"], how=\"outer\"),\n",
    "    frames\n",
    ")\n",
    "\n",
    "# reorder / rename as spec\n",
    "combined = combined[[\n",
    "    \"country\",\"currency\",\"time_period\",\"measure\",\n",
    "    \"bop_usd\",\"gfcf_usd\",\"ppp_gdp\",\"cpi_pct\"\n",
    "]].rename(columns={\n",
    "    \"bop_usd\":\"BoP_Mn\",\n",
    "    \"gfcf_usd\":\"GFCF_Mn\",\n",
    "    \"ppp_gdp\":\"PPP\",\n",
    "    \"cpi_pct\":\"CPI_%PA\"\n",
    "})\n",
    "\n",
    "# save combined\n",
    "OUT = BASE/\"combined_indicators\"; OUT.mkdir(exist_ok=True)\n",
    "for f in OUT.glob(\"*.csv\"): f.unlink()\n",
    "combined.to_csv(OUT/\"OECD_external_sector_combined.csv\", index=False)\n",
    "\n",
    "print(\"✅ combined saved →\", OUT/\"OECD_external_sector_combined.csv\",\n",
    "      \"| rows:\", len(combined))\n",
    "combined.head()\n"
   ]
  }
 ],
 "metadata": {
  "colab": {
   "authorship_tag": "ABX9TyM0U8DpiHX6qFBApW+gXnPd",
   "provenance": []
  },
  "kernelspec": {
   "display_name": "Python 3",
   "name": "python3"
  },
  "language_info": {
   "codemirror_mode": {
    "name": "ipython",
    "version": 3
   },
   "file_extension": ".py",
   "mimetype": "text/x-python",
   "name": "python",
   "nbconvert_exporter": "python",
   "pygments_lexer": "ipython3",
   "version": "3.10.18"
  },
  "papermill": {
   "default_parameters": {},
   "duration": 11.970689,
   "end_time": "2025-05-16T04:06:07.331664",
   "environment_variables": {},
   "exception": null,
   "input_path": "/content/drive/MyDrive/Colab Notebooks/OECD-Economy external.ipynb",
   "output_path": "/content/drive/MyDrive/Colab Notebooks/OECD-Economy external.ipynb",
   "parameters": {},
   "start_time": "2025-05-16T04:05:55.360975",
   "version": "2.6.0"
  }
 },
 "nbformat": 4,
 "nbformat_minor": 5
}
