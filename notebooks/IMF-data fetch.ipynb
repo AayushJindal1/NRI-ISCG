{
 "cells": [
  {
   "cell_type": "code",
   "execution_count": 1,
   "metadata": {
    "colab": {
     "base_uri": "https://localhost:8080/"
    },
    "execution": {
     "iopub.execute_input": "2025-10-18T01:09:36.295676Z",
     "iopub.status.busy": "2025-10-18T01:09:36.295482Z",
     "iopub.status.idle": "2025-10-18T01:09:36.479913Z",
     "shell.execute_reply": "2025-10-18T01:09:36.478909Z"
    },
    "executionInfo": {
     "elapsed": 24346,
     "status": "ok",
     "timestamp": 1747373976338,
     "user": {
      "displayName": "Aayush",
      "userId": "06063773002916323156"
     },
     "user_tz": -330
    },
    "id": "5_3TW1sbQTei",
    "outputId": "90d22232-91e5-4268-d3b3-08e1159e4f63"
   },
   "outputs": [
    {
     "ename": "ModuleNotFoundError",
     "evalue": "No module named 'google'",
     "output_type": "error",
     "traceback": [
      "\u001b[0;31m---------------------------------------------------------------------------\u001b[0m",
      "\u001b[0;31mModuleNotFoundError\u001b[0m                       Traceback (most recent call last)",
      "Cell \u001b[0;32mIn[1], line 1\u001b[0m\n\u001b[0;32m----> 1\u001b[0m \u001b[38;5;28;01mfrom\u001b[39;00m\u001b[38;5;250m \u001b[39m\u001b[38;5;21;01mgoogle\u001b[39;00m\u001b[38;5;21;01m.\u001b[39;00m\u001b[38;5;21;01mcolab\u001b[39;00m\u001b[38;5;250m \u001b[39m\u001b[38;5;28;01mimport\u001b[39;00m drive\n\u001b[1;32m      2\u001b[0m drive\u001b[38;5;241m.\u001b[39mmount(\u001b[38;5;124m'\u001b[39m\u001b[38;5;124m/content/drive\u001b[39m\u001b[38;5;124m'\u001b[39m)\n",
      "\u001b[0;31mModuleNotFoundError\u001b[0m: No module named 'google'"
     ]
    }
   ],
   "source": [
    "from google.colab import drive\n",
    "drive.mount('/content/drive')\n"
   ]
  },
  {
   "cell_type": "code",
   "execution_count": 2,
   "metadata": {
    "colab": {
     "base_uri": "https://localhost:8080/"
    },
    "execution": {
     "iopub.execute_input": "2025-10-18T01:09:36.515145Z",
     "iopub.status.busy": "2025-10-18T01:09:36.514916Z",
     "iopub.status.idle": "2025-10-18T01:09:43.493537Z",
     "shell.execute_reply": "2025-10-18T01:09:43.492300Z"
    },
    "executionInfo": {
     "elapsed": 32076,
     "status": "ok",
     "timestamp": 1747374010034,
     "user": {
      "displayName": "Aayush",
      "userId": "06063773002916323156"
     },
     "user_tz": -330
    },
    "id": "vu2un-sKUxjB",
    "outputId": "7c72ac36-49d4-44d0-dafd-40cd850f027f"
   },
   "outputs": [
    {
     "name": "stdout",
     "output_type": "stream",
     "text": [
      "E: Could not open lock file /var/lib/apt/lists/lock - open (13: Permission denied)\r\n",
      "E: Unable to lock directory /var/lib/apt/lists/\r\n"
     ]
    }
   ],
   "source": [
    "# Install headless Chromium + ChromeDriver and Selenium\n",
    "!apt-get update -qq && apt-get install -y -qq chromium-chromedriver\n",
    "!pip install -q selenium\n"
   ]
  },
  {
   "cell_type": "code",
   "execution_count": 3,
   "metadata": {
    "colab": {
     "base_uri": "https://localhost:8080/"
    },
    "execution": {
     "iopub.execute_input": "2025-10-18T01:09:43.495769Z",
     "iopub.status.busy": "2025-10-18T01:09:43.495557Z",
     "iopub.status.idle": "2025-10-18T01:09:43.696382Z",
     "shell.execute_reply": "2025-10-18T01:09:43.695393Z"
    },
    "executionInfo": {
     "elapsed": 1083,
     "status": "ok",
     "timestamp": 1747374931645,
     "user": {
      "displayName": "Aayush",
      "userId": "06063773002916323156"
     },
     "user_tz": -330
    },
    "id": "54yvNVHIUzyv",
    "outputId": "1652b4d7-7dba-4767-a002-3d863efa3967"
   },
   "outputs": [
    {
     "ename": "PermissionError",
     "evalue": "[Errno 13] Permission denied: '/content'",
     "output_type": "error",
     "traceback": [
      "\u001b[0;31m---------------------------------------------------------------------------\u001b[0m",
      "\u001b[0;31mPermissionError\u001b[0m                           Traceback (most recent call last)",
      "Cell \u001b[0;32mIn[3], line 12\u001b[0m\n\u001b[1;32m     10\u001b[0m base_dir \u001b[38;5;241m=\u001b[39m \u001b[38;5;124m'\u001b[39m\u001b[38;5;124m/content/drive/MyDrive/IMF/WEO\u001b[39m\u001b[38;5;124m'\u001b[39m\n\u001b[1;32m     11\u001b[0m raw_dir  \u001b[38;5;241m=\u001b[39m os\u001b[38;5;241m.\u001b[39mpath\u001b[38;5;241m.\u001b[39mjoin(base_dir, \u001b[38;5;124m'\u001b[39m\u001b[38;5;124mraw\u001b[39m\u001b[38;5;124m'\u001b[39m)\n\u001b[0;32m---> 12\u001b[0m \u001b[43mos\u001b[49m\u001b[38;5;241;43m.\u001b[39;49m\u001b[43mmakedirs\u001b[49m\u001b[43m(\u001b[49m\u001b[43mraw_dir\u001b[49m\u001b[43m,\u001b[49m\u001b[43m \u001b[49m\u001b[43mexist_ok\u001b[49m\u001b[38;5;241;43m=\u001b[39;49m\u001b[38;5;28;43;01mTrue\u001b[39;49;00m\u001b[43m)\u001b[49m\n\u001b[1;32m     13\u001b[0m \u001b[38;5;28mprint\u001b[39m(\u001b[38;5;124m\"\u001b[39m\u001b[38;5;124mRaw download folder:\u001b[39m\u001b[38;5;124m\"\u001b[39m, raw_dir)\n\u001b[1;32m     15\u001b[0m \u001b[38;5;66;03m# 2) Configure headless Chrome → download into raw_dir\u001b[39;00m\n",
      "File \u001b[0;32m/opt/hostedtoolcache/Python/3.10.19/x64/lib/python3.10/os.py:215\u001b[0m, in \u001b[0;36mmakedirs\u001b[0;34m(name, mode, exist_ok)\u001b[0m\n\u001b[1;32m    213\u001b[0m \u001b[38;5;28;01mif\u001b[39;00m head \u001b[38;5;129;01mand\u001b[39;00m tail \u001b[38;5;129;01mand\u001b[39;00m \u001b[38;5;129;01mnot\u001b[39;00m path\u001b[38;5;241m.\u001b[39mexists(head):\n\u001b[1;32m    214\u001b[0m     \u001b[38;5;28;01mtry\u001b[39;00m:\n\u001b[0;32m--> 215\u001b[0m         \u001b[43mmakedirs\u001b[49m\u001b[43m(\u001b[49m\u001b[43mhead\u001b[49m\u001b[43m,\u001b[49m\u001b[43m \u001b[49m\u001b[43mexist_ok\u001b[49m\u001b[38;5;241;43m=\u001b[39;49m\u001b[43mexist_ok\u001b[49m\u001b[43m)\u001b[49m\n\u001b[1;32m    216\u001b[0m     \u001b[38;5;28;01mexcept\u001b[39;00m \u001b[38;5;167;01mFileExistsError\u001b[39;00m:\n\u001b[1;32m    217\u001b[0m         \u001b[38;5;66;03m# Defeats race condition when another thread created the path\u001b[39;00m\n\u001b[1;32m    218\u001b[0m         \u001b[38;5;28;01mpass\u001b[39;00m\n",
      "File \u001b[0;32m/opt/hostedtoolcache/Python/3.10.19/x64/lib/python3.10/os.py:215\u001b[0m, in \u001b[0;36mmakedirs\u001b[0;34m(name, mode, exist_ok)\u001b[0m\n\u001b[1;32m    213\u001b[0m \u001b[38;5;28;01mif\u001b[39;00m head \u001b[38;5;129;01mand\u001b[39;00m tail \u001b[38;5;129;01mand\u001b[39;00m \u001b[38;5;129;01mnot\u001b[39;00m path\u001b[38;5;241m.\u001b[39mexists(head):\n\u001b[1;32m    214\u001b[0m     \u001b[38;5;28;01mtry\u001b[39;00m:\n\u001b[0;32m--> 215\u001b[0m         \u001b[43mmakedirs\u001b[49m\u001b[43m(\u001b[49m\u001b[43mhead\u001b[49m\u001b[43m,\u001b[49m\u001b[43m \u001b[49m\u001b[43mexist_ok\u001b[49m\u001b[38;5;241;43m=\u001b[39;49m\u001b[43mexist_ok\u001b[49m\u001b[43m)\u001b[49m\n\u001b[1;32m    216\u001b[0m     \u001b[38;5;28;01mexcept\u001b[39;00m \u001b[38;5;167;01mFileExistsError\u001b[39;00m:\n\u001b[1;32m    217\u001b[0m         \u001b[38;5;66;03m# Defeats race condition when another thread created the path\u001b[39;00m\n\u001b[1;32m    218\u001b[0m         \u001b[38;5;28;01mpass\u001b[39;00m\n",
      "    \u001b[0;31m[... skipping similar frames: makedirs at line 215 (2 times)]\u001b[0m\n",
      "File \u001b[0;32m/opt/hostedtoolcache/Python/3.10.19/x64/lib/python3.10/os.py:215\u001b[0m, in \u001b[0;36mmakedirs\u001b[0;34m(name, mode, exist_ok)\u001b[0m\n\u001b[1;32m    213\u001b[0m \u001b[38;5;28;01mif\u001b[39;00m head \u001b[38;5;129;01mand\u001b[39;00m tail \u001b[38;5;129;01mand\u001b[39;00m \u001b[38;5;129;01mnot\u001b[39;00m path\u001b[38;5;241m.\u001b[39mexists(head):\n\u001b[1;32m    214\u001b[0m     \u001b[38;5;28;01mtry\u001b[39;00m:\n\u001b[0;32m--> 215\u001b[0m         \u001b[43mmakedirs\u001b[49m\u001b[43m(\u001b[49m\u001b[43mhead\u001b[49m\u001b[43m,\u001b[49m\u001b[43m \u001b[49m\u001b[43mexist_ok\u001b[49m\u001b[38;5;241;43m=\u001b[39;49m\u001b[43mexist_ok\u001b[49m\u001b[43m)\u001b[49m\n\u001b[1;32m    216\u001b[0m     \u001b[38;5;28;01mexcept\u001b[39;00m \u001b[38;5;167;01mFileExistsError\u001b[39;00m:\n\u001b[1;32m    217\u001b[0m         \u001b[38;5;66;03m# Defeats race condition when another thread created the path\u001b[39;00m\n\u001b[1;32m    218\u001b[0m         \u001b[38;5;28;01mpass\u001b[39;00m\n",
      "File \u001b[0;32m/opt/hostedtoolcache/Python/3.10.19/x64/lib/python3.10/os.py:225\u001b[0m, in \u001b[0;36mmakedirs\u001b[0;34m(name, mode, exist_ok)\u001b[0m\n\u001b[1;32m    223\u001b[0m         \u001b[38;5;28;01mreturn\u001b[39;00m\n\u001b[1;32m    224\u001b[0m \u001b[38;5;28;01mtry\u001b[39;00m:\n\u001b[0;32m--> 225\u001b[0m     \u001b[43mmkdir\u001b[49m\u001b[43m(\u001b[49m\u001b[43mname\u001b[49m\u001b[43m,\u001b[49m\u001b[43m \u001b[49m\u001b[43mmode\u001b[49m\u001b[43m)\u001b[49m\n\u001b[1;32m    226\u001b[0m \u001b[38;5;28;01mexcept\u001b[39;00m \u001b[38;5;167;01mOSError\u001b[39;00m:\n\u001b[1;32m    227\u001b[0m     \u001b[38;5;66;03m# Cannot rely on checking for EEXIST, since the operating system\u001b[39;00m\n\u001b[1;32m    228\u001b[0m     \u001b[38;5;66;03m# could give priority to other errors like EACCES or EROFS\u001b[39;00m\n\u001b[1;32m    229\u001b[0m     \u001b[38;5;28;01mif\u001b[39;00m \u001b[38;5;129;01mnot\u001b[39;00m exist_ok \u001b[38;5;129;01mor\u001b[39;00m \u001b[38;5;129;01mnot\u001b[39;00m path\u001b[38;5;241m.\u001b[39misdir(name):\n",
      "\u001b[0;31mPermissionError\u001b[0m: [Errno 13] Permission denied: '/content'"
     ]
    }
   ],
   "source": [
    "# Cell 3 ─ Imports, folder setup, Chrome config\n",
    "import os, time, glob\n",
    "from selenium import webdriver\n",
    "from selenium.webdriver.chrome.options import Options\n",
    "from selenium.webdriver.common.by import By\n",
    "from selenium.webdriver.support.ui import WebDriverWait\n",
    "from selenium.webdriver.support import expected_conditions as EC\n",
    "\n",
    "# 1) Prepare folders\n",
    "base_dir = '/content/drive/MyDrive/IMF/WEO'\n",
    "raw_dir  = os.path.join(base_dir, 'raw')\n",
    "os.makedirs(raw_dir, exist_ok=True)\n",
    "print(\"Raw download folder:\", raw_dir)\n",
    "\n",
    "# 2) Configure headless Chrome → download into raw_dir\n",
    "os.environ['PATH'] += ':/usr/lib/chromium-browser/:/usr/lib/chromium-browser/chromedriver'\n",
    "opts = Options()\n",
    "opts.add_argument('--headless')\n",
    "opts.add_argument('--no-sandbox')\n",
    "opts.add_argument('--disable-dev-shm-usage')\n",
    "opts.add_experimental_option('prefs', {\n",
    "    \"download.default_directory\": raw_dir,\n",
    "    \"download.prompt_for_download\": False,\n",
    "    \"download.directory_upgrade\": True,\n",
    "    \"safebrowsing.enabled\": True\n",
    "})\n",
    "\n",
    "driver = webdriver.Chrome(options=opts)\n"
   ]
  },
  {
   "cell_type": "code",
   "execution_count": 4,
   "metadata": {
    "execution": {
     "iopub.execute_input": "2025-10-18T01:09:43.698446Z",
     "iopub.status.busy": "2025-10-18T01:09:43.698231Z",
     "iopub.status.idle": "2025-10-18T01:09:43.711713Z",
     "shell.execute_reply": "2025-10-18T01:09:43.710794Z"
    },
    "id": "MPJGF4FsU_u4"
   },
   "outputs": [
    {
     "ename": "NameError",
     "evalue": "name 'driver' is not defined",
     "output_type": "error",
     "traceback": [
      "\u001b[0;31m---------------------------------------------------------------------------\u001b[0m",
      "\u001b[0;31mNameError\u001b[0m                                 Traceback (most recent call last)",
      "Cell \u001b[0;32mIn[4], line 3\u001b[0m\n\u001b[1;32m      1\u001b[0m \u001b[38;5;66;03m# Cell 4 ─ Open page & wait for initial load (~10s)\u001b[39;00m\n\u001b[1;32m      2\u001b[0m url \u001b[38;5;241m=\u001b[39m \u001b[38;5;124m'\u001b[39m\u001b[38;5;124mhttps://data.imf.org/en/Data\u001b[39m\u001b[38;5;132;01m%20E\u001b[39;00m\u001b[38;5;124mxplorer?datasetUrn=IMF.RES:WEO(6.0.0)\u001b[39m\u001b[38;5;124m'\u001b[39m\n\u001b[0;32m----> 3\u001b[0m \u001b[43mdriver\u001b[49m\u001b[38;5;241m.\u001b[39mget(url)\n\u001b[1;32m      5\u001b[0m \u001b[38;5;66;03m# give the React UI time to fetch and render\u001b[39;00m\n\u001b[1;32m      6\u001b[0m time\u001b[38;5;241m.\u001b[39msleep(\u001b[38;5;241m10\u001b[39m)\n",
      "\u001b[0;31mNameError\u001b[0m: name 'driver' is not defined"
     ]
    }
   ],
   "source": [
    "# Cell 4 ─ Open page & wait for initial load (~10s)\n",
    "url = 'https://data.imf.org/en/Data%20Explorer?datasetUrn=IMF.RES:WEO(6.0.0)'\n",
    "driver.get(url)\n",
    "\n",
    "# give the React UI time to fetch and render\n",
    "time.sleep(10)\n"
   ]
  },
  {
   "cell_type": "code",
   "execution_count": 5,
   "metadata": {
    "colab": {
     "base_uri": "https://localhost:8080/"
    },
    "execution": {
     "iopub.execute_input": "2025-10-18T01:09:43.713533Z",
     "iopub.status.busy": "2025-10-18T01:09:43.713343Z",
     "iopub.status.idle": "2025-10-18T01:09:43.729043Z",
     "shell.execute_reply": "2025-10-18T01:09:43.728111Z"
    },
    "executionInfo": {
     "elapsed": 30523,
     "status": "error",
     "timestamp": 1747376220892,
     "user": {
      "displayName": "Aayush",
      "userId": "06063773002916323156"
     },
     "user_tz": -330
    },
    "id": "6LOsffP73C-f",
    "outputId": "5c57709a-9f8a-4e47-a802-21458cfb109e"
   },
   "outputs": [
    {
     "ename": "NameError",
     "evalue": "name 'driver' is not defined",
     "output_type": "error",
     "traceback": [
      "\u001b[0;31m---------------------------------------------------------------------------\u001b[0m",
      "\u001b[0;31mNameError\u001b[0m                                 Traceback (most recent call last)",
      "Cell \u001b[0;32mIn[5], line 7\u001b[0m\n\u001b[1;32m      4\u001b[0m \u001b[38;5;28;01mfrom\u001b[39;00m\u001b[38;5;250m \u001b[39m\u001b[38;5;21;01mselenium\u001b[39;00m\u001b[38;5;21;01m.\u001b[39;00m\u001b[38;5;21;01mwebdriver\u001b[39;00m\u001b[38;5;21;01m.\u001b[39;00m\u001b[38;5;21;01msupport\u001b[39;00m\u001b[38;5;250m \u001b[39m\u001b[38;5;28;01mimport\u001b[39;00m expected_conditions \u001b[38;5;28;01mas\u001b[39;00m EC\n\u001b[1;32m      6\u001b[0m \u001b[38;5;66;03m# 1) Wait for the <span>DOWNLOAD</span> to load in the DOM\u001b[39;00m\n\u001b[0;32m----> 7\u001b[0m span_dl \u001b[38;5;241m=\u001b[39m WebDriverWait(\u001b[43mdriver\u001b[49m, \u001b[38;5;241m30\u001b[39m)\u001b[38;5;241m.\u001b[39muntil(\n\u001b[1;32m      8\u001b[0m     EC\u001b[38;5;241m.\u001b[39mpresence_of_element_located((By\u001b[38;5;241m.\u001b[39mXPATH,\n\u001b[1;32m      9\u001b[0m         \u001b[38;5;124m\"\u001b[39m\u001b[38;5;124m//span[normalize-space(text())=\u001b[39m\u001b[38;5;124m'\u001b[39m\u001b[38;5;124mDOWNLOAD\u001b[39m\u001b[38;5;124m'\u001b[39m\u001b[38;5;124m]\u001b[39m\u001b[38;5;124m\"\u001b[39m\n\u001b[1;32m     10\u001b[0m     ))\n\u001b[1;32m     11\u001b[0m )\n\u001b[1;32m     13\u001b[0m \u001b[38;5;66;03m# 2) Climb up to its enclosing <button>\u001b[39;00m\n\u001b[1;32m     14\u001b[0m download_btn \u001b[38;5;241m=\u001b[39m span_dl\u001b[38;5;241m.\u001b[39mfind_element(By\u001b[38;5;241m.\u001b[39mXPATH, \u001b[38;5;124m\"\u001b[39m\u001b[38;5;124m./ancestor::button[1]\u001b[39m\u001b[38;5;124m\"\u001b[39m)\n",
      "\u001b[0;31mNameError\u001b[0m: name 'driver' is not defined"
     ]
    }
   ],
   "source": [
    "# ─── Cell 5: Click the “DOWNLOAD” button via its inner span text ───\n",
    "from selenium.webdriver.common.by import By\n",
    "from selenium.webdriver.support.ui import WebDriverWait\n",
    "from selenium.webdriver.support import expected_conditions as EC\n",
    "\n",
    "# 1) Wait for the <span>DOWNLOAD</span> to load in the DOM\n",
    "span_dl = WebDriverWait(driver, 30).until(\n",
    "    EC.presence_of_element_located((By.XPATH,\n",
    "        \"//span[normalize-space(text())='DOWNLOAD']\"\n",
    "    ))\n",
    ")\n",
    "\n",
    "# 2) Climb up to its enclosing <button>\n",
    "download_btn = span_dl.find_element(By.XPATH, \"./ancestor::button[1]\")\n",
    "\n",
    "# 3) Print outerHTML for verification\n",
    "print(\">>> OuterHTML of the DOWNLOAD button:\")\n",
    "print(download_btn.get_attribute(\"outerHTML\"), \"\\n\")\n",
    "\n",
    "# 4) Click it\n",
    "download_btn.click()\n",
    "print(\"✅ DOWNLOAD clicked. Your CSV should download into the raw folder now.\")\n"
   ]
  }
 ],
 "metadata": {
  "colab": {
   "authorship_tag": "ABX9TyN1rqn84Qun14lio53M8lJc",
   "provenance": []
  },
  "kernelspec": {
   "display_name": "Python 3",
   "name": "python3"
  },
  "language_info": {
   "codemirror_mode": {
    "name": "ipython",
    "version": 3
   },
   "file_extension": ".py",
   "mimetype": "text/x-python",
   "name": "python",
   "nbconvert_exporter": "python",
   "pygments_lexer": "ipython3",
   "version": "3.10.19"
  }
 },
 "nbformat": 4,
 "nbformat_minor": 0
}
