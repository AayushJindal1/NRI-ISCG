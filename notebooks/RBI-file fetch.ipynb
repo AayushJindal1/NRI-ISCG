{
 "cells": [
  {
   "cell_type": "code",
   "execution_count": 1,
   "metadata": {
    "colab": {
     "base_uri": "https://localhost:8080/"
    },
    "execution": {
     "iopub.execute_input": "2025-05-18T21:28:24.918361Z",
     "iopub.status.busy": "2025-05-18T21:28:24.918171Z",
     "iopub.status.idle": "2025-05-18T21:28:25.118052Z",
     "shell.execute_reply": "2025-05-18T21:28:25.117379Z"
    },
    "executionInfo": {
     "elapsed": 48766,
     "status": "ok",
     "timestamp": 1747304590454,
     "user": {
      "displayName": "Aayush",
      "userId": "06063773002916323156"
     },
     "user_tz": -330
    },
    "id": "qLqJs2VG3O3Y",
    "outputId": "310429f2-4796-44f3-d586-a1ba373270ef"
   },
   "outputs": [
    {
     "ename": "ModuleNotFoundError",
     "evalue": "No module named 'google'",
     "output_type": "error",
     "traceback": [
      "\u001b[0;31m---------------------------------------------------------------------------\u001b[0m",
      "\u001b[0;31mModuleNotFoundError\u001b[0m                       Traceback (most recent call last)",
      "Cell \u001b[0;32mIn[1], line 4\u001b[0m\n\u001b[1;32m      1\u001b[0m \u001b[38;5;66;03m# ─── CELL 1: SETUP + CLEAN + DOWNLOAD RAW XLSX ────────────────────────\u001b[39;00m\n\u001b[1;32m      2\u001b[0m \n\u001b[1;32m      3\u001b[0m \u001b[38;5;66;03m# 1) Mount Google Drive (force remount to avoid “already mounted”)\u001b[39;00m\n\u001b[0;32m----> 4\u001b[0m \u001b[38;5;28;01mfrom\u001b[39;00m\u001b[38;5;250m \u001b[39m\u001b[38;5;21;01mgoogle\u001b[39;00m\u001b[38;5;21;01m.\u001b[39;00m\u001b[38;5;21;01mcolab\u001b[39;00m\u001b[38;5;250m \u001b[39m\u001b[38;5;28;01mimport\u001b[39;00m drive\n\u001b[1;32m      5\u001b[0m drive\u001b[38;5;241m.\u001b[39mmount(\u001b[38;5;124m'\u001b[39m\u001b[38;5;124m/content/drive\u001b[39m\u001b[38;5;124m'\u001b[39m, force_remount\u001b[38;5;241m=\u001b[39m\u001b[38;5;28;01mTrue\u001b[39;00m)\n\u001b[1;32m      7\u001b[0m \u001b[38;5;66;03m# 2) Define & create folder structure\u001b[39;00m\n",
      "\u001b[0;31mModuleNotFoundError\u001b[0m: No module named 'google'"
     ]
    }
   ],
   "source": [
    "# ─── CELL 1: SETUP + CLEAN + DOWNLOAD RAW XLSX ────────────────────────\n",
    "\n",
    "# 1) Mount Google Drive (force remount to avoid “already mounted”)\n",
    "from google.colab import drive\n",
    "drive.mount('/content/drive', force_remount=True)\n",
    "\n",
    "# 2) Define & create folder structure\n",
    "import os, glob\n",
    "BASE_DIR = '/content/drive/MyDrive/RBI/MI'\n",
    "RAW_DIR  = os.path.join(BASE_DIR, 'RAW')\n",
    "PROC_DIR = os.path.join(BASE_DIR, 'Processed')\n",
    "\n",
    "for d in (RAW_DIR, PROC_DIR):\n",
    "    os.makedirs(d, exist_ok=True)\n",
    "\n",
    "# 3) Wipe out any existing files\n",
    "for f in glob.glob(os.path.join(RAW_DIR, '*')):    os.remove(f)\n",
    "for f in glob.glob(os.path.join(PROC_DIR, '*.csv')): os.remove(f)\n",
    "\n",
    "# 4) Install Chromium & Selenium + auto‐driver installer\n",
    "!apt-get update -y > /dev/null\n",
    "!apt-get install -y chromium-browser > /dev/null\n",
    "!pip install selenium chromedriver-autoinstaller > /dev/null\n",
    "\n",
    "# 5) Launch headless Chrome pointing downloads at RAW_DIR\n",
    "import chromedriver_autoinstaller, time\n",
    "from selenium import webdriver\n",
    "from selenium.webdriver.chrome.service import Service\n",
    "from selenium.webdriver.chrome.options import Options\n",
    "from selenium.webdriver.common.by import By\n",
    "\n",
    "driver_path = chromedriver_autoinstaller.install()\n",
    "opts = Options()\n",
    "opts.binary_location = '/usr/bin/chromium-browser'\n",
    "opts.add_argument('--headless')\n",
    "opts.add_argument('--no-sandbox')\n",
    "opts.add_argument('--disable-dev-shm-usage')\n",
    "opts.add_experimental_option('prefs', {\n",
    "    'download.default_directory': RAW_DIR,\n",
    "    'download.prompt_for_download': False,\n",
    "    'directory_upgrade': True\n",
    "})\n",
    "\n",
    "service = Service(driver_path)\n",
    "driver = webdriver.Chrome(service=service, options=opts)\n",
    "driver.implicitly_wait(10)\n",
    "\n",
    "# 6) Navigate & click “50 Macroeconomic Indicators” to drop the .xlsx\n",
    "driver.get('https://data.rbi.org.in/DBIE/#/dbie/home')\n",
    "time.sleep(5)\n",
    "span = driver.find_element(By.XPATH, \"//span[text()='50 Macroeconomic Indicators']\")\n",
    "link = span.find_element(By.XPATH, \"./parent::a\")\n",
    "driver.execute_script(\"arguments[0].scrollIntoView(true);\", link)\n",
    "driver.execute_script(\"arguments[0].click();\", link)\n",
    "\n",
    "# 7) Wait for download, then quit\n",
    "time.sleep(15)\n",
    "driver.quit()\n",
    "print(\"✅ Raw .xlsx should now be in:\", RAW_DIR)\n"
   ]
  },
  {
   "cell_type": "code",
   "execution_count": 2,
   "metadata": {
    "colab": {
     "base_uri": "https://localhost:8080/"
    },
    "execution": {
     "iopub.execute_input": "2025-05-18T21:28:25.153528Z",
     "iopub.status.busy": "2025-05-18T21:28:25.152912Z",
     "iopub.status.idle": "2025-05-18T21:28:25.437635Z",
     "shell.execute_reply": "2025-05-18T21:28:25.437066Z"
    },
    "executionInfo": {
     "elapsed": 285,
     "status": "ok",
     "timestamp": 1747306465483,
     "user": {
      "displayName": "Aayush",
      "userId": "06063773002916323156"
     },
     "user_tz": -330
    },
    "id": "E5bKXiYndxl1",
    "outputId": "dc904394-9d1f-4885-b6d6-62f7a403e0e5"
   },
   "outputs": [
    {
     "ename": "FileNotFoundError",
     "evalue": "No .xlsx found in /content/drive/MyDrive/RBI/MI/RAW",
     "output_type": "error",
     "traceback": [
      "\u001b[0;31m---------------------------------------------------------------------------\u001b[0m",
      "\u001b[0;31mFileNotFoundError\u001b[0m                         Traceback (most recent call last)",
      "Cell \u001b[0;32mIn[2], line 11\u001b[0m\n\u001b[1;32m      9\u001b[0m files \u001b[38;5;241m=\u001b[39m glob\u001b[38;5;241m.\u001b[39mglob(os\u001b[38;5;241m.\u001b[39mpath\u001b[38;5;241m.\u001b[39mjoin(RAW_DIR, \u001b[38;5;124m'\u001b[39m\u001b[38;5;124m*.xlsx\u001b[39m\u001b[38;5;124m'\u001b[39m))\n\u001b[1;32m     10\u001b[0m \u001b[38;5;28;01mif\u001b[39;00m \u001b[38;5;129;01mnot\u001b[39;00m files:\n\u001b[0;32m---> 11\u001b[0m     \u001b[38;5;28;01mraise\u001b[39;00m \u001b[38;5;167;01mFileNotFoundError\u001b[39;00m(\u001b[38;5;124mf\u001b[39m\u001b[38;5;124m\"\u001b[39m\u001b[38;5;124mNo .xlsx found in \u001b[39m\u001b[38;5;132;01m{\u001b[39;00mRAW_DIR\u001b[38;5;132;01m}\u001b[39;00m\u001b[38;5;124m\"\u001b[39m)\n\u001b[1;32m     12\u001b[0m raw_path \u001b[38;5;241m=\u001b[39m files[\u001b[38;5;241m0\u001b[39m]\n\u001b[1;32m     14\u001b[0m \u001b[38;5;66;03m# 2) Read every sheet, using row 4 as header, drop Unnamed cols\u001b[39;00m\n",
      "\u001b[0;31mFileNotFoundError\u001b[0m: No .xlsx found in /content/drive/MyDrive/RBI/MI/RAW"
     ]
    }
   ],
   "source": [
    "# ─── CELL 2: PROCESS RAW .XLSX → 4 CSVs + merged.csv (Period = dd-mm-YYYY) ────\n",
    "\n",
    "import pandas as pd, glob, os\n",
    "\n",
    "RAW_DIR  = '/content/drive/MyDrive/RBI/MI/RAW'\n",
    "PROC_DIR = '/content/drive/MyDrive/RBI/MI/Processed'\n",
    "\n",
    "# 1) Locate the raw .xlsx\n",
    "files = glob.glob(os.path.join(RAW_DIR, '*.xlsx'))\n",
    "if not files:\n",
    "    raise FileNotFoundError(f\"No .xlsx found in {RAW_DIR}\")\n",
    "raw_path = files[0]\n",
    "\n",
    "# 2) Read every sheet, using row 4 as header, drop Unnamed cols\n",
    "xls = pd.ExcelFile(raw_path, engine='openpyxl')\n",
    "all_dfs = []\n",
    "\n",
    "for sheet in xls.sheet_names:\n",
    "    # Read with 4th row as header\n",
    "    df = pd.read_excel(xls, sheet_name=sheet, header=3, engine='openpyxl')\n",
    "    df.columns = df.columns.str.strip()\n",
    "    df = df.loc[:, ~df.columns.str.contains('^Unnamed')]\n",
    "\n",
    "    # Reformat 'Period' → dd-mm-YYYY (string)\n",
    "    if 'Period' in df.columns:\n",
    "        df.loc[:, 'Period'] = (\n",
    "            pd.to_datetime(df['Period'], dayfirst=True, errors='coerce')\n",
    "              .dt.strftime('%d-%m-%Y')     # hyphens, dd-mm-YYYY\n",
    "        ).fillna('').astype(str)\n",
    "\n",
    "    # Tag frequency from sheet name (e.g. \"Weekly\")\n",
    "    freq = sheet.split(' - ')[-1].strip()\n",
    "    df.loc[:, 'Frequency'] = freq\n",
    "\n",
    "    # Save each slice as CSV\n",
    "    out_csv = os.path.join(PROC_DIR, f\"{freq}.csv\")\n",
    "    df.to_csv(out_csv, index=False)\n",
    "\n",
    "    all_dfs.append(df)\n",
    "\n",
    "# 3) Merge all slices and save merged.csv\n",
    "merged = pd.concat(all_dfs, ignore_index=True)\n",
    "merged.to_csv(os.path.join(PROC_DIR, 'merged.csv'), index=False)\n",
    "\n",
    "print(\"✅ Processing complete. Files in Processed/:\", os.listdir(PROC_DIR))\n"
   ]
  }
 ],
 "metadata": {
  "colab": {
   "authorship_tag": "ABX9TyOfI+k/VrewlMVj9UKPLgme",
   "provenance": []
  },
  "kernelspec": {
   "display_name": "Python 3",
   "name": "python3"
  },
  "language_info": {
   "codemirror_mode": {
    "name": "ipython",
    "version": 3
   },
   "file_extension": ".py",
   "mimetype": "text/x-python",
   "name": "python",
   "nbconvert_exporter": "python",
   "pygments_lexer": "ipython3",
   "version": "3.10.17"
  }
 },
 "nbformat": 4,
 "nbformat_minor": 0
}
