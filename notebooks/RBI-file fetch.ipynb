{
 "cells": [
  {
   "cell_type": "code",
   "execution_count": 1,
   "metadata": {
    "colab": {
     "base_uri": "https://localhost:8080/"
    },
    "execution": {
     "iopub.execute_input": "2025-05-16T05:18:14.584439Z",
     "iopub.status.busy": "2025-05-16T05:18:14.583828Z",
     "iopub.status.idle": "2025-05-16T05:21:02.861004Z",
     "shell.execute_reply": "2025-05-16T05:21:02.859986Z"
    },
    "executionInfo": {
     "elapsed": 48766,
     "status": "ok",
     "timestamp": 1747304590454,
     "user": {
      "displayName": "Aayush",
      "userId": "06063773002916323156"
     },
     "user_tz": -330
    },
    "id": "qLqJs2VG3O3Y",
    "outputId": "310429f2-4796-44f3-d586-a1ba373270ef"
   },
   "outputs": [
    {
     "name": "stdout",
     "output_type": "stream",
     "text": [
      "Mounted at /content/drive\n"
     ]
    },
    {
     "name": "stdout",
     "output_type": "stream",
     "text": [
      "W: Skipping acquire of configured file 'main/source/Sources' as repository 'https://r2u.stat.illinois.edu/ubuntu jammy InRelease' does not seem to provide it (sources.list entry misspelt?)\n"
     ]
    },
    {
     "name": "stdout",
     "output_type": "stream",
     "text": [
      "✅ Raw .xlsx should now be in: /content/drive/MyDrive/RBI/MI/RAW\n"
     ]
    }
   ],
   "source": [
    "# ─── CELL 1: SETUP + CLEAN + DOWNLOAD RAW XLSX ────────────────────────\n",
    "\n",
    "# 1) Mount Google Drive (force remount to avoid “already mounted”)\n",
    "from google.colab import drive\n",
    "drive.mount('/content/drive', force_remount=True)\n",
    "\n",
    "# 2) Define & create folder structure\n",
    "import os, glob\n",
    "BASE_DIR = '/content/drive/MyDrive/RBI/MI'\n",
    "RAW_DIR  = os.path.join(BASE_DIR, 'RAW')\n",
    "PROC_DIR = os.path.join(BASE_DIR, 'Processed')\n",
    "\n",
    "for d in (RAW_DIR, PROC_DIR):\n",
    "    os.makedirs(d, exist_ok=True)\n",
    "\n",
    "# 3) Wipe out any existing files\n",
    "for f in glob.glob(os.path.join(RAW_DIR, '*')):    os.remove(f)\n",
    "for f in glob.glob(os.path.join(PROC_DIR, '*.csv')): os.remove(f)\n",
    "\n",
    "# 4) Install Chromium & Selenium + auto‐driver installer\n",
    "!apt-get update -y > /dev/null\n",
    "!apt-get install -y chromium-browser > /dev/null\n",
    "!pip install selenium chromedriver-autoinstaller > /dev/null\n",
    "\n",
    "# 5) Launch headless Chrome pointing downloads at RAW_DIR\n",
    "import chromedriver_autoinstaller, time\n",
    "from selenium import webdriver\n",
    "from selenium.webdriver.chrome.service import Service\n",
    "from selenium.webdriver.chrome.options import Options\n",
    "from selenium.webdriver.common.by import By\n",
    "\n",
    "driver_path = chromedriver_autoinstaller.install()\n",
    "opts = Options()\n",
    "opts.binary_location = '/usr/bin/chromium-browser'\n",
    "opts.add_argument('--headless')\n",
    "opts.add_argument('--no-sandbox')\n",
    "opts.add_argument('--disable-dev-shm-usage')\n",
    "opts.add_experimental_option('prefs', {\n",
    "    'download.default_directory': RAW_DIR,\n",
    "    'download.prompt_for_download': False,\n",
    "    'directory_upgrade': True\n",
    "})\n",
    "\n",
    "service = Service(driver_path)\n",
    "driver = webdriver.Chrome(service=service, options=opts)\n",
    "driver.implicitly_wait(10)\n",
    "\n",
    "# 6) Navigate & click “50 Macroeconomic Indicators” to drop the .xlsx\n",
    "driver.get('https://data.rbi.org.in/DBIE/#/dbie/home')\n",
    "time.sleep(5)\n",
    "span = driver.find_element(By.XPATH, \"//span[text()='50 Macroeconomic Indicators']\")\n",
    "link = span.find_element(By.XPATH, \"./parent::a\")\n",
    "driver.execute_script(\"arguments[0].scrollIntoView(true);\", link)\n",
    "driver.execute_script(\"arguments[0].click();\", link)\n",
    "\n",
    "# 7) Wait for download, then quit\n",
    "time.sleep(15)\n",
    "driver.quit()\n",
    "print(\"✅ Raw .xlsx should now be in:\", RAW_DIR)\n"
   ]
  },
  {
   "cell_type": "code",
   "execution_count": 2,
   "metadata": {
    "colab": {
     "base_uri": "https://localhost:8080/"
    },
    "execution": {
     "iopub.execute_input": "2025-05-16T05:21:02.865071Z",
     "iopub.status.busy": "2025-05-16T05:21:02.864622Z",
     "iopub.status.idle": "2025-05-16T05:21:04.106828Z",
     "shell.execute_reply": "2025-05-16T05:21:04.105556Z"
    },
    "executionInfo": {
     "elapsed": 285,
     "status": "ok",
     "timestamp": 1747306465483,
     "user": {
      "displayName": "Aayush",
      "userId": "06063773002916323156"
     },
     "user_tz": -330
    },
    "id": "E5bKXiYndxl1",
    "outputId": "dc904394-9d1f-4885-b6d6-62f7a403e0e5"
   },
   "outputs": [
    {
     "name": "stderr",
     "output_type": "stream",
     "text": [
      "/usr/local/lib/python3.11/dist-packages/openpyxl/styles/stylesheet.py:237: UserWarning: Workbook contains no default style, apply openpyxl's default\n",
      "  warn(\"Workbook contains no default style, apply openpyxl's default\")\n",
      "<ipython-input-2-921e2a0e5e04>:27: UserWarning: Could not infer format, so each element will be parsed individually, falling back to `dateutil`. To ensure parsing is consistent and as-expected, please specify a format.\n",
      "  pd.to_datetime(df['Period'], dayfirst=True, errors='coerce')\n"
     ]
    },
    {
     "name": "stdout",
     "output_type": "stream",
     "text": [
      "✅ Processing complete. Files in Processed/: ['Weekly.csv', 'Fortnightly.csv', 'Monthly.csv', 'Quarterly.csv', 'merged.csv']\n"
     ]
    }
   ],
   "source": [
    "# ─── CELL 2: PROCESS RAW .XLSX → 4 CSVs + merged.csv (Period = dd-mm-YYYY) ────\n",
    "\n",
    "import pandas as pd, glob, os\n",
    "\n",
    "RAW_DIR  = '/content/drive/MyDrive/RBI/MI/RAW'\n",
    "PROC_DIR = '/content/drive/MyDrive/RBI/MI/Processed'\n",
    "\n",
    "# 1) Locate the raw .xlsx\n",
    "files = glob.glob(os.path.join(RAW_DIR, '*.xlsx'))\n",
    "if not files:\n",
    "    raise FileNotFoundError(f\"No .xlsx found in {RAW_DIR}\")\n",
    "raw_path = files[0]\n",
    "\n",
    "# 2) Read every sheet, using row 4 as header, drop Unnamed cols\n",
    "xls = pd.ExcelFile(raw_path, engine='openpyxl')\n",
    "all_dfs = []\n",
    "\n",
    "for sheet in xls.sheet_names:\n",
    "    # Read with 4th row as header\n",
    "    df = pd.read_excel(xls, sheet_name=sheet, header=3, engine='openpyxl')\n",
    "    df.columns = df.columns.str.strip()\n",
    "    df = df.loc[:, ~df.columns.str.contains('^Unnamed')]\n",
    "\n",
    "    # Reformat 'Period' → dd-mm-YYYY (string)\n",
    "    if 'Period' in df.columns:\n",
    "        df.loc[:, 'Period'] = (\n",
    "            pd.to_datetime(df['Period'], dayfirst=True, errors='coerce')\n",
    "              .dt.strftime('%d-%m-%Y')     # hyphens, dd-mm-YYYY\n",
    "        ).fillna('').astype(str)\n",
    "\n",
    "    # Tag frequency from sheet name (e.g. \"Weekly\")\n",
    "    freq = sheet.split(' - ')[-1].strip()\n",
    "    df.loc[:, 'Frequency'] = freq\n",
    "\n",
    "    # Save each slice as CSV\n",
    "    out_csv = os.path.join(PROC_DIR, f\"{freq}.csv\")\n",
    "    df.to_csv(out_csv, index=False)\n",
    "\n",
    "    all_dfs.append(df)\n",
    "\n",
    "# 3) Merge all slices and save merged.csv\n",
    "merged = pd.concat(all_dfs, ignore_index=True)\n",
    "merged.to_csv(os.path.join(PROC_DIR, 'merged.csv'), index=False)\n",
    "\n",
    "print(\"✅ Processing complete. Files in Processed/:\", os.listdir(PROC_DIR))\n"
   ]
  }
 ],
 "metadata": {
  "colab": {
   "authorship_tag": "ABX9TyOfI+k/VrewlMVj9UKPLgme",
   "provenance": []
  },
  "kernelspec": {
   "display_name": "Python 3",
   "name": "python3"
  },
  "language_info": {
   "codemirror_mode": {
    "name": "ipython",
    "version": 3
   },
   "file_extension": ".py",
   "mimetype": "text/x-python",
   "name": "python",
   "nbconvert_exporter": "python",
   "pygments_lexer": "ipython3",
   "version": "3.11.12"
  }
 },
 "nbformat": 4,
 "nbformat_minor": 0
}
