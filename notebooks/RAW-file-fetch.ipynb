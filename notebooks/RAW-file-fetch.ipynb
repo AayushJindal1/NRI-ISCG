{
 "cells": [
  {
   "cell_type": "code",
   "execution_count": 1,
   "id": "99da05fa",
   "metadata": {
    "colab": {
     "base_uri": "https://localhost:8080/"
    },
    "execution": {
     "iopub.execute_input": "2025-09-20T14:13:00.460775Z",
     "iopub.status.busy": "2025-09-20T14:13:00.460540Z",
     "iopub.status.idle": "2025-09-20T14:13:01.791562Z",
     "shell.execute_reply": "2025-09-20T14:13:01.790887Z"
    },
    "executionInfo": {
     "elapsed": 4329,
     "status": "ok",
     "timestamp": 1747144400272,
     "user": {
      "displayName": "Aayush",
      "userId": "06063773002916323156"
     },
     "user_tz": -330
    },
    "id": "VRTMYfFyiOj5",
    "outputId": "31a4f81e-7d0d-4ef2-aade-dee55db8b96c",
    "papermill": {
     "duration": 5.121908,
     "end_time": "2025-05-16T04:03:43.770391",
     "exception": false,
     "start_time": "2025-05-16T04:03:38.648483",
     "status": "completed"
    },
    "tags": []
   },
   "outputs": [
    {
     "name": "stdout",
     "output_type": "stream",
     "text": [
      "✅ pandas version: 2.2.2\n"
     ]
    }
   ],
   "source": [
    "!pip install -q --upgrade pandas==2.2.2 requests\n",
    "import importlib, pandas as pd; importlib.reload(pd)\n",
    "print(\"✅ pandas version:\", pd.__version__)\n"
   ]
  },
  {
   "cell_type": "markdown",
   "id": "90927c7f",
   "metadata": {
    "id": "6UcUe1Rf5c6B",
    "papermill": {
     "duration": 0.008541,
     "end_time": "2025-05-16T04:03:43.787698",
     "exception": false,
     "start_time": "2025-05-16T04:03:43.779157",
     "status": "completed"
    },
    "tags": []
   },
   "source": [
    "World Bank- Economic Indicators"
   ]
  },
  {
   "cell_type": "code",
   "execution_count": 2,
   "id": "ad9d2e77",
   "metadata": {
    "colab": {
     "base_uri": "https://localhost:8080/"
    },
    "execution": {
     "iopub.execute_input": "2025-09-20T14:13:01.793922Z",
     "iopub.status.busy": "2025-09-20T14:13:01.793668Z",
     "iopub.status.idle": "2025-09-20T14:13:02.917679Z",
     "shell.execute_reply": "2025-09-20T14:13:02.917006Z"
    },
    "executionInfo": {
     "elapsed": 16337,
     "status": "ok",
     "timestamp": 1747144416607,
     "user": {
      "displayName": "Aayush",
      "userId": "06063773002916323156"
     },
     "user_tz": -330
    },
    "id": "RCm1MLLd02vT",
    "outputId": "195aa627-6525-44df-9564-df6a8a609c94",
    "papermill": {
     "duration": 126.841496,
     "end_time": "2025-05-16T04:05:50.636635",
     "exception": false,
     "start_time": "2025-05-16T04:03:43.795139",
     "status": "completed"
    },
    "tags": []
   },
   "outputs": [
    {
     "ename": "ModuleNotFoundError",
     "evalue": "No module named 'google'",
     "output_type": "error",
     "traceback": [
      "\u001b[0;31m---------------------------------------------------------------------------\u001b[0m",
      "\u001b[0;31mModuleNotFoundError\u001b[0m                       Traceback (most recent call last)",
      "Cell \u001b[0;32mIn[2], line 6\u001b[0m\n\u001b[1;32m      1\u001b[0m \u001b[38;5;66;03m# =======================================================================\u001b[39;00m\n\u001b[1;32m      2\u001b[0m \u001b[38;5;66;03m# 0. Install deps & mount Google Drive\u001b[39;00m\n\u001b[1;32m      3\u001b[0m \u001b[38;5;66;03m# =======================================================================\u001b[39;00m\n\u001b[1;32m      4\u001b[0m get_ipython()\u001b[38;5;241m.\u001b[39msystem(\u001b[38;5;124m'\u001b[39m\u001b[38;5;124mpip -q install --upgrade pandas==2.2.2 requests   # pin to Colab‑compatible pandas\u001b[39m\u001b[38;5;124m'\u001b[39m)\n\u001b[0;32m----> 6\u001b[0m \u001b[38;5;28;01mfrom\u001b[39;00m\u001b[38;5;250m \u001b[39m\u001b[38;5;21;01mgoogle\u001b[39;00m\u001b[38;5;21;01m.\u001b[39;00m\u001b[38;5;21;01mcolab\u001b[39;00m\u001b[38;5;250m \u001b[39m\u001b[38;5;28;01mimport\u001b[39;00m drive\n\u001b[1;32m      7\u001b[0m drive\u001b[38;5;241m.\u001b[39mmount(\u001b[38;5;124m'\u001b[39m\u001b[38;5;124m/content/drive\u001b[39m\u001b[38;5;124m'\u001b[39m, force_remount\u001b[38;5;241m=\u001b[39m\u001b[38;5;28;01mTrue\u001b[39;00m)\n\u001b[1;32m      9\u001b[0m \u001b[38;5;66;03m# =======================================================================\u001b[39;00m\n\u001b[1;32m     10\u001b[0m \u001b[38;5;66;03m# 1. Config – indicator list & folder root\u001b[39;00m\n\u001b[1;32m     11\u001b[0m \u001b[38;5;66;03m# =======================================================================\u001b[39;00m\n",
      "\u001b[0;31mModuleNotFoundError\u001b[0m: No module named 'google'"
     ]
    }
   ],
   "source": [
    "# =======================================================================\n",
    "# 0. Install deps & mount Google Drive\n",
    "# =======================================================================\n",
    "!pip -q install --upgrade pandas==2.2.2 requests   # pin to Colab‑compatible pandas\n",
    "\n",
    "from google.colab import drive\n",
    "drive.mount('/content/drive', force_remount=True)\n",
    "\n",
    "# =======================================================================\n",
    "# 1. Config – indicator list & folder root\n",
    "# =======================================================================\n",
    "import pathlib, datetime as dt, requests, zipfile, io, shutil, pandas as pd\n",
    "\n",
    "TODAY      = dt.date.today().strftime(\"%Y%m%d\")\n",
    "ROOT       = pathlib.Path('/content/drive/MyDrive/WorldBank/India/Economic_Indicators')\n",
    "\n",
    "INDICATORS = [\n",
    "    # (World Bank code, folder‑slug, tidy value‑column name)\n",
    "    (\"NY.GDP.MKTP.CD\",     \"GDP_total\",        \"gdp_usd_billions\"   ),\n",
    "    (\"NY.GDP.PCAP.CD\",     \"GDP_per_capita\",   \"gdp_per_capita_usd\" ),\n",
    "    (\"NY.GDP.MKTP.KD.ZG\",  \"GDP_growth\",       \"gdp_growth_pct\"     ),\n",
    "    (\"FP.CPI.TOTL.ZG\",     \"Inflation_CPI\",    \"inflation_pct\"      ),\n",
    "]\n",
    "\n",
    "# =======================================================================\n",
    "# 2. Helper: download -> raw CSV -> tidy -> processed CSV\n",
    "# =======================================================================\n",
    "def refresh_indicator(code, slug, value_col):\n",
    "    raw_dir  = ROOT / slug / 'raw'\n",
    "    proc_dir = ROOT / slug / 'processed'\n",
    "    raw_dir.mkdir(parents=True, exist_ok=True)\n",
    "    proc_dir.mkdir(parents=True, exist_ok=True)\n",
    "\n",
    "    wb_url = f\"https://api.worldbank.org/v2/en/indicator/{code}?downloadformat=csv\"\n",
    "    print(f\"\\n▶ {code}  ➜  {slug}\")\n",
    "\n",
    "    # --- (a) Download ZIP & write ONE raw CSV ---------------------------------\n",
    "    resp = requests.get(wb_url, timeout=120)\n",
    "    resp.raise_for_status()\n",
    "\n",
    "    with zipfile.ZipFile(io.BytesIO(resp.content)) as z:\n",
    "        csv_name = next(n for n in z.namelist() if n.startswith('API_') and n.endswith('.csv'))\n",
    "        raw_csv  = raw_dir / f\"{code}_raw_{TODAY}.csv\"\n",
    "\n",
    "        # remove any previous raw file\n",
    "        for f in raw_dir.glob('*.csv'):\n",
    "            f.unlink()\n",
    "\n",
    "        with z.open(csv_name) as src, open(raw_csv, 'wb') as tgt:\n",
    "            shutil.copyfileobj(src, tgt)\n",
    "    print(\"   ✓ raw CSV:\", raw_csv.name)\n",
    "\n",
    "    # --- (b) Tidy all countries & years ---------------------------------------\n",
    "    df = pd.read_csv(raw_csv, skiprows=4)\n",
    "    df = df.drop(columns=['Country Code', 'Indicator Name', 'Indicator Code'])\n",
    "\n",
    "    tidy = (\n",
    "        df.melt(id_vars='Country Name', var_name='year', value_name=value_col)\n",
    "          .rename(columns={'Country Name': 'country'})\n",
    "    )\n",
    "    tidy['year'] = pd.to_numeric(tidy['year'], errors='coerce').astype('Int64')\n",
    "    tidy[value_col] = pd.to_numeric(tidy[value_col], errors='coerce')\n",
    "    tidy = tidy.dropna(subset=[value_col]).reset_index(drop=True)\n",
    "\n",
    "    # --- (c) write ONE processed file -----------------------------------------\n",
    "    for f in proc_dir.glob('*.csv'):\n",
    "        f.unlink()\n",
    "\n",
    "    proc_csv = proc_dir / f\"{slug}_{tidy['year'].min()}_{tidy['year'].max()}.csv\"\n",
    "    tidy.to_csv(proc_csv, index=False)\n",
    "    print(\"   ✓ processed CSV:\", proc_csv.name)\n",
    "    return raw_dir, proc_dir\n",
    "\n",
    "# =======================================================================\n",
    "# 3. Run refresh for every indicator\n",
    "# =======================================================================\n",
    "for code, slug, valcol in INDICATORS:\n",
    "    refresh_indicator(code, slug, valcol)\n",
    "\n",
    "# =======================================================================\n",
    "# 4. Folder summary\n",
    "# =======================================================================\n",
    "for path in ROOT.iterdir():\n",
    "    if path.is_dir():\n",
    "        raws = [p.name for p in (path/'raw').glob('*')]\n",
    "        pros = [p.name for p in (path/'processed').glob('*')]\n",
    "        print(f\"\\n📂 {path.name}\\n   raw : {raws}\\n   proc: {pros}\")\n"
   ]
  },
  {
   "cell_type": "markdown",
   "id": "22dcb727",
   "metadata": {
    "id": "_o0i1qWNPyFh",
    "papermill": {
     "duration": 0.010002,
     "end_time": "2025-05-16T04:05:50.655797",
     "exception": false,
     "start_time": "2025-05-16T04:05:50.645795",
     "status": "completed"
    },
    "tags": []
   },
   "source": [
    "Macroeconomics, Trade & Investment"
   ]
  },
  {
   "cell_type": "code",
   "execution_count": 3,
   "id": "c7d40cc2",
   "metadata": {
    "colab": {
     "base_uri": "https://localhost:8080/"
    },
    "execution": {
     "iopub.execute_input": "2025-09-20T14:13:02.919889Z",
     "iopub.status.busy": "2025-09-20T14:13:02.919688Z",
     "iopub.status.idle": "2025-09-20T14:13:03.226995Z",
     "shell.execute_reply": "2025-09-20T14:13:03.226321Z"
    },
    "executionInfo": {
     "elapsed": 2876,
     "status": "ok",
     "timestamp": 1747144419488,
     "user": {
      "displayName": "Aayush",
      "userId": "06063773002916323156"
     },
     "user_tz": -330
    },
    "id": "WDmT6dJTPwqF",
    "outputId": "7f02046d-2a71-4315-8b9d-88da8207df5d",
    "papermill": {
     "duration": 3.296766,
     "end_time": "2025-05-16T04:05:53.967774",
     "exception": false,
     "start_time": "2025-05-16T04:05:50.671008",
     "status": "completed"
    },
    "tags": []
   },
   "outputs": [
    {
     "ename": "PermissionError",
     "evalue": "[Errno 13] Permission denied: '/content'",
     "output_type": "error",
     "traceback": [
      "\u001b[0;31m---------------------------------------------------------------------------\u001b[0m",
      "\u001b[0;31mFileNotFoundError\u001b[0m                         Traceback (most recent call last)",
      "File \u001b[0;32m/opt/hostedtoolcache/Python/3.10.18/x64/lib/python3.10/pathlib.py:1175\u001b[0m, in \u001b[0;36mPath.mkdir\u001b[0;34m(self, mode, parents, exist_ok)\u001b[0m\n\u001b[1;32m   1174\u001b[0m \u001b[38;5;28;01mtry\u001b[39;00m:\n\u001b[0;32m-> 1175\u001b[0m     \u001b[38;5;28;43mself\u001b[39;49m\u001b[38;5;241;43m.\u001b[39;49m\u001b[43m_accessor\u001b[49m\u001b[38;5;241;43m.\u001b[39;49m\u001b[43mmkdir\u001b[49m\u001b[43m(\u001b[49m\u001b[38;5;28;43mself\u001b[39;49m\u001b[43m,\u001b[49m\u001b[43m \u001b[49m\u001b[43mmode\u001b[49m\u001b[43m)\u001b[49m\n\u001b[1;32m   1176\u001b[0m \u001b[38;5;28;01mexcept\u001b[39;00m \u001b[38;5;167;01mFileNotFoundError\u001b[39;00m:\n",
      "\u001b[0;31mFileNotFoundError\u001b[0m: [Errno 2] No such file or directory: '/content/drive/MyDrive/WorldBank/India/MacroEconomics_Trade_Investment/GNI_total/raw'",
      "\nDuring handling of the above exception, another exception occurred:\n",
      "\u001b[0;31mFileNotFoundError\u001b[0m                         Traceback (most recent call last)",
      "File \u001b[0;32m/opt/hostedtoolcache/Python/3.10.18/x64/lib/python3.10/pathlib.py:1175\u001b[0m, in \u001b[0;36mPath.mkdir\u001b[0;34m(self, mode, parents, exist_ok)\u001b[0m\n\u001b[1;32m   1174\u001b[0m \u001b[38;5;28;01mtry\u001b[39;00m:\n\u001b[0;32m-> 1175\u001b[0m     \u001b[38;5;28;43mself\u001b[39;49m\u001b[38;5;241;43m.\u001b[39;49m\u001b[43m_accessor\u001b[49m\u001b[38;5;241;43m.\u001b[39;49m\u001b[43mmkdir\u001b[49m\u001b[43m(\u001b[49m\u001b[38;5;28;43mself\u001b[39;49m\u001b[43m,\u001b[49m\u001b[43m \u001b[49m\u001b[43mmode\u001b[49m\u001b[43m)\u001b[49m\n\u001b[1;32m   1176\u001b[0m \u001b[38;5;28;01mexcept\u001b[39;00m \u001b[38;5;167;01mFileNotFoundError\u001b[39;00m:\n",
      "\u001b[0;31mFileNotFoundError\u001b[0m: [Errno 2] No such file or directory: '/content/drive/MyDrive/WorldBank/India/MacroEconomics_Trade_Investment/GNI_total'",
      "\nDuring handling of the above exception, another exception occurred:\n",
      "\u001b[0;31mFileNotFoundError\u001b[0m                         Traceback (most recent call last)",
      "File \u001b[0;32m/opt/hostedtoolcache/Python/3.10.18/x64/lib/python3.10/pathlib.py:1175\u001b[0m, in \u001b[0;36mPath.mkdir\u001b[0;34m(self, mode, parents, exist_ok)\u001b[0m\n\u001b[1;32m   1174\u001b[0m \u001b[38;5;28;01mtry\u001b[39;00m:\n\u001b[0;32m-> 1175\u001b[0m     \u001b[38;5;28;43mself\u001b[39;49m\u001b[38;5;241;43m.\u001b[39;49m\u001b[43m_accessor\u001b[49m\u001b[38;5;241;43m.\u001b[39;49m\u001b[43mmkdir\u001b[49m\u001b[43m(\u001b[49m\u001b[38;5;28;43mself\u001b[39;49m\u001b[43m,\u001b[49m\u001b[43m \u001b[49m\u001b[43mmode\u001b[49m\u001b[43m)\u001b[49m\n\u001b[1;32m   1176\u001b[0m \u001b[38;5;28;01mexcept\u001b[39;00m \u001b[38;5;167;01mFileNotFoundError\u001b[39;00m:\n",
      "\u001b[0;31mFileNotFoundError\u001b[0m: [Errno 2] No such file or directory: '/content/drive/MyDrive/WorldBank/India/MacroEconomics_Trade_Investment'",
      "\nDuring handling of the above exception, another exception occurred:\n",
      "\u001b[0;31mFileNotFoundError\u001b[0m                         Traceback (most recent call last)",
      "File \u001b[0;32m/opt/hostedtoolcache/Python/3.10.18/x64/lib/python3.10/pathlib.py:1175\u001b[0m, in \u001b[0;36mPath.mkdir\u001b[0;34m(self, mode, parents, exist_ok)\u001b[0m\n\u001b[1;32m   1174\u001b[0m \u001b[38;5;28;01mtry\u001b[39;00m:\n\u001b[0;32m-> 1175\u001b[0m     \u001b[38;5;28;43mself\u001b[39;49m\u001b[38;5;241;43m.\u001b[39;49m\u001b[43m_accessor\u001b[49m\u001b[38;5;241;43m.\u001b[39;49m\u001b[43mmkdir\u001b[49m\u001b[43m(\u001b[49m\u001b[38;5;28;43mself\u001b[39;49m\u001b[43m,\u001b[49m\u001b[43m \u001b[49m\u001b[43mmode\u001b[49m\u001b[43m)\u001b[49m\n\u001b[1;32m   1176\u001b[0m \u001b[38;5;28;01mexcept\u001b[39;00m \u001b[38;5;167;01mFileNotFoundError\u001b[39;00m:\n",
      "\u001b[0;31mFileNotFoundError\u001b[0m: [Errno 2] No such file or directory: '/content/drive/MyDrive/WorldBank/India'",
      "\nDuring handling of the above exception, another exception occurred:\n",
      "\u001b[0;31mFileNotFoundError\u001b[0m                         Traceback (most recent call last)",
      "File \u001b[0;32m/opt/hostedtoolcache/Python/3.10.18/x64/lib/python3.10/pathlib.py:1175\u001b[0m, in \u001b[0;36mPath.mkdir\u001b[0;34m(self, mode, parents, exist_ok)\u001b[0m\n\u001b[1;32m   1174\u001b[0m \u001b[38;5;28;01mtry\u001b[39;00m:\n\u001b[0;32m-> 1175\u001b[0m     \u001b[38;5;28;43mself\u001b[39;49m\u001b[38;5;241;43m.\u001b[39;49m\u001b[43m_accessor\u001b[49m\u001b[38;5;241;43m.\u001b[39;49m\u001b[43mmkdir\u001b[49m\u001b[43m(\u001b[49m\u001b[38;5;28;43mself\u001b[39;49m\u001b[43m,\u001b[49m\u001b[43m \u001b[49m\u001b[43mmode\u001b[49m\u001b[43m)\u001b[49m\n\u001b[1;32m   1176\u001b[0m \u001b[38;5;28;01mexcept\u001b[39;00m \u001b[38;5;167;01mFileNotFoundError\u001b[39;00m:\n",
      "\u001b[0;31mFileNotFoundError\u001b[0m: [Errno 2] No such file or directory: '/content/drive/MyDrive/WorldBank'",
      "\nDuring handling of the above exception, another exception occurred:\n",
      "\u001b[0;31mFileNotFoundError\u001b[0m                         Traceback (most recent call last)",
      "File \u001b[0;32m/opt/hostedtoolcache/Python/3.10.18/x64/lib/python3.10/pathlib.py:1175\u001b[0m, in \u001b[0;36mPath.mkdir\u001b[0;34m(self, mode, parents, exist_ok)\u001b[0m\n\u001b[1;32m   1174\u001b[0m \u001b[38;5;28;01mtry\u001b[39;00m:\n\u001b[0;32m-> 1175\u001b[0m     \u001b[38;5;28;43mself\u001b[39;49m\u001b[38;5;241;43m.\u001b[39;49m\u001b[43m_accessor\u001b[49m\u001b[38;5;241;43m.\u001b[39;49m\u001b[43mmkdir\u001b[49m\u001b[43m(\u001b[49m\u001b[38;5;28;43mself\u001b[39;49m\u001b[43m,\u001b[49m\u001b[43m \u001b[49m\u001b[43mmode\u001b[49m\u001b[43m)\u001b[49m\n\u001b[1;32m   1176\u001b[0m \u001b[38;5;28;01mexcept\u001b[39;00m \u001b[38;5;167;01mFileNotFoundError\u001b[39;00m:\n",
      "\u001b[0;31mFileNotFoundError\u001b[0m: [Errno 2] No such file or directory: '/content/drive/MyDrive'",
      "\nDuring handling of the above exception, another exception occurred:\n",
      "\u001b[0;31mFileNotFoundError\u001b[0m                         Traceback (most recent call last)",
      "File \u001b[0;32m/opt/hostedtoolcache/Python/3.10.18/x64/lib/python3.10/pathlib.py:1175\u001b[0m, in \u001b[0;36mPath.mkdir\u001b[0;34m(self, mode, parents, exist_ok)\u001b[0m\n\u001b[1;32m   1174\u001b[0m \u001b[38;5;28;01mtry\u001b[39;00m:\n\u001b[0;32m-> 1175\u001b[0m     \u001b[38;5;28;43mself\u001b[39;49m\u001b[38;5;241;43m.\u001b[39;49m\u001b[43m_accessor\u001b[49m\u001b[38;5;241;43m.\u001b[39;49m\u001b[43mmkdir\u001b[49m\u001b[43m(\u001b[49m\u001b[38;5;28;43mself\u001b[39;49m\u001b[43m,\u001b[49m\u001b[43m \u001b[49m\u001b[43mmode\u001b[49m\u001b[43m)\u001b[49m\n\u001b[1;32m   1176\u001b[0m \u001b[38;5;28;01mexcept\u001b[39;00m \u001b[38;5;167;01mFileNotFoundError\u001b[39;00m:\n",
      "\u001b[0;31mFileNotFoundError\u001b[0m: [Errno 2] No such file or directory: '/content/drive'",
      "\nDuring handling of the above exception, another exception occurred:\n",
      "\u001b[0;31mPermissionError\u001b[0m                           Traceback (most recent call last)",
      "Cell \u001b[0;32mIn[3], line 65\u001b[0m\n\u001b[1;32m     61\u001b[0m \u001b[38;5;66;03m# ---------------------------------------------------------------------------\u001b[39;00m\n\u001b[1;32m     62\u001b[0m \u001b[38;5;66;03m# 3. Refresh all four indicators\u001b[39;00m\n\u001b[1;32m     63\u001b[0m \u001b[38;5;66;03m# ---------------------------------------------------------------------------\u001b[39;00m\n\u001b[1;32m     64\u001b[0m \u001b[38;5;28;01mfor\u001b[39;00m code, slug, valcol \u001b[38;5;129;01min\u001b[39;00m INDICATORS:\n\u001b[0;32m---> 65\u001b[0m     \u001b[43mrefresh\u001b[49m\u001b[43m(\u001b[49m\u001b[43mcode\u001b[49m\u001b[43m,\u001b[49m\u001b[43m \u001b[49m\u001b[43mslug\u001b[49m\u001b[43m,\u001b[49m\u001b[43m \u001b[49m\u001b[43mvalcol\u001b[49m\u001b[43m)\u001b[49m\n\u001b[1;32m     67\u001b[0m \u001b[38;5;66;03m# ---------------------------------------------------------------------------\u001b[39;00m\n\u001b[1;32m     68\u001b[0m \u001b[38;5;66;03m# 4. Quick folder summary\u001b[39;00m\n\u001b[1;32m     69\u001b[0m \u001b[38;5;66;03m# ---------------------------------------------------------------------------\u001b[39;00m\n\u001b[1;32m     70\u001b[0m \u001b[38;5;28;01mfor\u001b[39;00m p \u001b[38;5;129;01min\u001b[39;00m ROOT\u001b[38;5;241m.\u001b[39miterdir():\n",
      "Cell \u001b[0;32mIn[3], line 23\u001b[0m, in \u001b[0;36mrefresh\u001b[0;34m(code, slug, value_col)\u001b[0m\n\u001b[1;32m     21\u001b[0m raw_dir  \u001b[38;5;241m=\u001b[39m ROOT \u001b[38;5;241m/\u001b[39m slug \u001b[38;5;241m/\u001b[39m \u001b[38;5;124m'\u001b[39m\u001b[38;5;124mraw\u001b[39m\u001b[38;5;124m'\u001b[39m\n\u001b[1;32m     22\u001b[0m proc_dir \u001b[38;5;241m=\u001b[39m ROOT \u001b[38;5;241m/\u001b[39m slug \u001b[38;5;241m/\u001b[39m \u001b[38;5;124m'\u001b[39m\u001b[38;5;124mprocessed\u001b[39m\u001b[38;5;124m'\u001b[39m\n\u001b[0;32m---> 23\u001b[0m \u001b[43mraw_dir\u001b[49m\u001b[38;5;241;43m.\u001b[39;49m\u001b[43mmkdir\u001b[49m\u001b[43m(\u001b[49m\u001b[43mparents\u001b[49m\u001b[38;5;241;43m=\u001b[39;49m\u001b[38;5;28;43;01mTrue\u001b[39;49;00m\u001b[43m,\u001b[49m\u001b[43m \u001b[49m\u001b[43mexist_ok\u001b[49m\u001b[38;5;241;43m=\u001b[39;49m\u001b[38;5;28;43;01mTrue\u001b[39;49;00m\u001b[43m)\u001b[49m\n\u001b[1;32m     24\u001b[0m proc_dir\u001b[38;5;241m.\u001b[39mmkdir(parents\u001b[38;5;241m=\u001b[39m\u001b[38;5;28;01mTrue\u001b[39;00m, exist_ok\u001b[38;5;241m=\u001b[39m\u001b[38;5;28;01mTrue\u001b[39;00m)\n\u001b[1;32m     26\u001b[0m wb_url \u001b[38;5;241m=\u001b[39m \u001b[38;5;124mf\u001b[39m\u001b[38;5;124m\"\u001b[39m\u001b[38;5;124mhttps://api.worldbank.org/v2/en/indicator/\u001b[39m\u001b[38;5;132;01m{\u001b[39;00mcode\u001b[38;5;132;01m}\u001b[39;00m\u001b[38;5;124m?downloadformat=csv\u001b[39m\u001b[38;5;124m\"\u001b[39m\n",
      "File \u001b[0;32m/opt/hostedtoolcache/Python/3.10.18/x64/lib/python3.10/pathlib.py:1179\u001b[0m, in \u001b[0;36mPath.mkdir\u001b[0;34m(self, mode, parents, exist_ok)\u001b[0m\n\u001b[1;32m   1177\u001b[0m     \u001b[38;5;28;01mif\u001b[39;00m \u001b[38;5;129;01mnot\u001b[39;00m parents \u001b[38;5;129;01mor\u001b[39;00m \u001b[38;5;28mself\u001b[39m\u001b[38;5;241m.\u001b[39mparent \u001b[38;5;241m==\u001b[39m \u001b[38;5;28mself\u001b[39m:\n\u001b[1;32m   1178\u001b[0m         \u001b[38;5;28;01mraise\u001b[39;00m\n\u001b[0;32m-> 1179\u001b[0m     \u001b[38;5;28;43mself\u001b[39;49m\u001b[38;5;241;43m.\u001b[39;49m\u001b[43mparent\u001b[49m\u001b[38;5;241;43m.\u001b[39;49m\u001b[43mmkdir\u001b[49m\u001b[43m(\u001b[49m\u001b[43mparents\u001b[49m\u001b[38;5;241;43m=\u001b[39;49m\u001b[38;5;28;43;01mTrue\u001b[39;49;00m\u001b[43m,\u001b[49m\u001b[43m \u001b[49m\u001b[43mexist_ok\u001b[49m\u001b[38;5;241;43m=\u001b[39;49m\u001b[38;5;28;43;01mTrue\u001b[39;49;00m\u001b[43m)\u001b[49m\n\u001b[1;32m   1180\u001b[0m     \u001b[38;5;28mself\u001b[39m\u001b[38;5;241m.\u001b[39mmkdir(mode, parents\u001b[38;5;241m=\u001b[39m\u001b[38;5;28;01mFalse\u001b[39;00m, exist_ok\u001b[38;5;241m=\u001b[39mexist_ok)\n\u001b[1;32m   1181\u001b[0m \u001b[38;5;28;01mexcept\u001b[39;00m \u001b[38;5;167;01mOSError\u001b[39;00m:\n\u001b[1;32m   1182\u001b[0m     \u001b[38;5;66;03m# Cannot rely on checking for EEXIST, since the operating system\u001b[39;00m\n\u001b[1;32m   1183\u001b[0m     \u001b[38;5;66;03m# could give priority to other errors like EACCES or EROFS\u001b[39;00m\n",
      "File \u001b[0;32m/opt/hostedtoolcache/Python/3.10.18/x64/lib/python3.10/pathlib.py:1179\u001b[0m, in \u001b[0;36mPath.mkdir\u001b[0;34m(self, mode, parents, exist_ok)\u001b[0m\n\u001b[1;32m   1177\u001b[0m     \u001b[38;5;28;01mif\u001b[39;00m \u001b[38;5;129;01mnot\u001b[39;00m parents \u001b[38;5;129;01mor\u001b[39;00m \u001b[38;5;28mself\u001b[39m\u001b[38;5;241m.\u001b[39mparent \u001b[38;5;241m==\u001b[39m \u001b[38;5;28mself\u001b[39m:\n\u001b[1;32m   1178\u001b[0m         \u001b[38;5;28;01mraise\u001b[39;00m\n\u001b[0;32m-> 1179\u001b[0m     \u001b[38;5;28;43mself\u001b[39;49m\u001b[38;5;241;43m.\u001b[39;49m\u001b[43mparent\u001b[49m\u001b[38;5;241;43m.\u001b[39;49m\u001b[43mmkdir\u001b[49m\u001b[43m(\u001b[49m\u001b[43mparents\u001b[49m\u001b[38;5;241;43m=\u001b[39;49m\u001b[38;5;28;43;01mTrue\u001b[39;49;00m\u001b[43m,\u001b[49m\u001b[43m \u001b[49m\u001b[43mexist_ok\u001b[49m\u001b[38;5;241;43m=\u001b[39;49m\u001b[38;5;28;43;01mTrue\u001b[39;49;00m\u001b[43m)\u001b[49m\n\u001b[1;32m   1180\u001b[0m     \u001b[38;5;28mself\u001b[39m\u001b[38;5;241m.\u001b[39mmkdir(mode, parents\u001b[38;5;241m=\u001b[39m\u001b[38;5;28;01mFalse\u001b[39;00m, exist_ok\u001b[38;5;241m=\u001b[39mexist_ok)\n\u001b[1;32m   1181\u001b[0m \u001b[38;5;28;01mexcept\u001b[39;00m \u001b[38;5;167;01mOSError\u001b[39;00m:\n\u001b[1;32m   1182\u001b[0m     \u001b[38;5;66;03m# Cannot rely on checking for EEXIST, since the operating system\u001b[39;00m\n\u001b[1;32m   1183\u001b[0m     \u001b[38;5;66;03m# could give priority to other errors like EACCES or EROFS\u001b[39;00m\n",
      "    \u001b[0;31m[... skipping similar frames: Path.mkdir at line 1179 (4 times)]\u001b[0m\n",
      "File \u001b[0;32m/opt/hostedtoolcache/Python/3.10.18/x64/lib/python3.10/pathlib.py:1179\u001b[0m, in \u001b[0;36mPath.mkdir\u001b[0;34m(self, mode, parents, exist_ok)\u001b[0m\n\u001b[1;32m   1177\u001b[0m     \u001b[38;5;28;01mif\u001b[39;00m \u001b[38;5;129;01mnot\u001b[39;00m parents \u001b[38;5;129;01mor\u001b[39;00m \u001b[38;5;28mself\u001b[39m\u001b[38;5;241m.\u001b[39mparent \u001b[38;5;241m==\u001b[39m \u001b[38;5;28mself\u001b[39m:\n\u001b[1;32m   1178\u001b[0m         \u001b[38;5;28;01mraise\u001b[39;00m\n\u001b[0;32m-> 1179\u001b[0m     \u001b[38;5;28;43mself\u001b[39;49m\u001b[38;5;241;43m.\u001b[39;49m\u001b[43mparent\u001b[49m\u001b[38;5;241;43m.\u001b[39;49m\u001b[43mmkdir\u001b[49m\u001b[43m(\u001b[49m\u001b[43mparents\u001b[49m\u001b[38;5;241;43m=\u001b[39;49m\u001b[38;5;28;43;01mTrue\u001b[39;49;00m\u001b[43m,\u001b[49m\u001b[43m \u001b[49m\u001b[43mexist_ok\u001b[49m\u001b[38;5;241;43m=\u001b[39;49m\u001b[38;5;28;43;01mTrue\u001b[39;49;00m\u001b[43m)\u001b[49m\n\u001b[1;32m   1180\u001b[0m     \u001b[38;5;28mself\u001b[39m\u001b[38;5;241m.\u001b[39mmkdir(mode, parents\u001b[38;5;241m=\u001b[39m\u001b[38;5;28;01mFalse\u001b[39;00m, exist_ok\u001b[38;5;241m=\u001b[39mexist_ok)\n\u001b[1;32m   1181\u001b[0m \u001b[38;5;28;01mexcept\u001b[39;00m \u001b[38;5;167;01mOSError\u001b[39;00m:\n\u001b[1;32m   1182\u001b[0m     \u001b[38;5;66;03m# Cannot rely on checking for EEXIST, since the operating system\u001b[39;00m\n\u001b[1;32m   1183\u001b[0m     \u001b[38;5;66;03m# could give priority to other errors like EACCES or EROFS\u001b[39;00m\n",
      "File \u001b[0;32m/opt/hostedtoolcache/Python/3.10.18/x64/lib/python3.10/pathlib.py:1175\u001b[0m, in \u001b[0;36mPath.mkdir\u001b[0;34m(self, mode, parents, exist_ok)\u001b[0m\n\u001b[1;32m   1171\u001b[0m \u001b[38;5;250m\u001b[39m\u001b[38;5;124;03m\"\"\"\u001b[39;00m\n\u001b[1;32m   1172\u001b[0m \u001b[38;5;124;03mCreate a new directory at this given path.\u001b[39;00m\n\u001b[1;32m   1173\u001b[0m \u001b[38;5;124;03m\"\"\"\u001b[39;00m\n\u001b[1;32m   1174\u001b[0m \u001b[38;5;28;01mtry\u001b[39;00m:\n\u001b[0;32m-> 1175\u001b[0m     \u001b[38;5;28;43mself\u001b[39;49m\u001b[38;5;241;43m.\u001b[39;49m\u001b[43m_accessor\u001b[49m\u001b[38;5;241;43m.\u001b[39;49m\u001b[43mmkdir\u001b[49m\u001b[43m(\u001b[49m\u001b[38;5;28;43mself\u001b[39;49m\u001b[43m,\u001b[49m\u001b[43m \u001b[49m\u001b[43mmode\u001b[49m\u001b[43m)\u001b[49m\n\u001b[1;32m   1176\u001b[0m \u001b[38;5;28;01mexcept\u001b[39;00m \u001b[38;5;167;01mFileNotFoundError\u001b[39;00m:\n\u001b[1;32m   1177\u001b[0m     \u001b[38;5;28;01mif\u001b[39;00m \u001b[38;5;129;01mnot\u001b[39;00m parents \u001b[38;5;129;01mor\u001b[39;00m \u001b[38;5;28mself\u001b[39m\u001b[38;5;241m.\u001b[39mparent \u001b[38;5;241m==\u001b[39m \u001b[38;5;28mself\u001b[39m:\n",
      "\u001b[0;31mPermissionError\u001b[0m: [Errno 13] Permission denied: '/content'"
     ]
    }
   ],
   "source": [
    "import pathlib, datetime as dt, requests, zipfile, io, shutil, pandas as pd\n",
    "\n",
    "# ---------------------------------------------------------------------------\n",
    "# 1. Config – macro‑trade‑investment indicators\n",
    "# ---------------------------------------------------------------------------\n",
    "TODAY   = dt.date.today().strftime(\"%Y%m%d\")\n",
    "ROOT    = pathlib.Path('/content/drive/MyDrive/WorldBank/India/MacroEconomics_Trade_Investment')\n",
    "\n",
    "INDICATORS = [\n",
    "    # code,                                 slug,                      value column\n",
    "    (\"NY.GNP.MKTP.CD\",      \"GNI_total\",                \"gni_usd_billions\"),\n",
    "    (\"NY.GNP.PCAP.KD.ZG\",   \"GNI_per_capita_growth\",    \"gni_per_capita_growth_pct\"),\n",
    "    (\"BN.GSR.GNFS.CD\",      \"Net_trade_goods_services\", \"net_trade_usd\"),\n",
    "    (\"BN.KLT.DINV.CD\",      \"FDI_net\",                  \"fdi_net_usd\"),\n",
    "]\n",
    "\n",
    "# ---------------------------------------------------------------------------\n",
    "# 2. Helper\n",
    "# ---------------------------------------------------------------------------\n",
    "def refresh(code, slug, value_col):\n",
    "    raw_dir  = ROOT / slug / 'raw'\n",
    "    proc_dir = ROOT / slug / 'processed'\n",
    "    raw_dir.mkdir(parents=True, exist_ok=True)\n",
    "    proc_dir.mkdir(parents=True, exist_ok=True)\n",
    "\n",
    "    wb_url = f\"https://api.worldbank.org/v2/en/indicator/{code}?downloadformat=csv\"\n",
    "    print(f\"\\n▶ {code}  ➜  {slug}\")\n",
    "\n",
    "    # --- download & save ONE raw CSV ----------------------------------------\n",
    "    r = requests.get(wb_url, timeout=120)\n",
    "    r.raise_for_status()\n",
    "    with zipfile.ZipFile(io.BytesIO(r.content)) as z:\n",
    "        csv_name = next(n for n in z.namelist() if n.startswith('API_') and n.endswith('.csv'))\n",
    "        raw_csv = raw_dir / f\"{code}_raw_{TODAY}.csv\"\n",
    "        # remove older raw files\n",
    "        for f in raw_dir.glob('*.csv'):\n",
    "            f.unlink()\n",
    "        with z.open(csv_name) as src, open(raw_csv, 'wb') as tgt:\n",
    "            shutil.copyfileobj(src, tgt)\n",
    "    print(\"   ✓ raw CSV:\", raw_csv.name)\n",
    "\n",
    "    # --- clean & reshape ----------------------------------------------------\n",
    "    df = pd.read_csv(raw_csv, skiprows=4)\n",
    "    df = df.drop(columns=['Country Code', 'Indicator Name', 'Indicator Code'])\n",
    "\n",
    "    tidy = (\n",
    "        df.melt(id_vars='Country Name', var_name='year', value_name=value_col)\n",
    "          .rename(columns={'Country Name': 'country'})\n",
    "    )\n",
    "    tidy['year']        = pd.to_numeric(tidy['year'], errors='coerce').astype('Int64')\n",
    "    tidy[value_col]     = pd.to_numeric(tidy[value_col], errors='coerce')\n",
    "    tidy                = tidy.dropna(subset=[value_col]).reset_index(drop=True)\n",
    "\n",
    "    # --- write ONE processed CSV -------------------------------------------\n",
    "    for f in proc_dir.glob('*.csv'):\n",
    "        f.unlink()\n",
    "    proc_csv = proc_dir / f\"{slug}_{tidy['year'].min()}_{tidy['year'].max()}.csv\"\n",
    "    tidy.to_csv(proc_csv, index=False)\n",
    "    print(\"   ✓ processed CSV:\", proc_csv.name)\n",
    "\n",
    "# ---------------------------------------------------------------------------\n",
    "# 3. Refresh all four indicators\n",
    "# ---------------------------------------------------------------------------\n",
    "for code, slug, valcol in INDICATORS:\n",
    "    refresh(code, slug, valcol)\n",
    "\n",
    "# ---------------------------------------------------------------------------\n",
    "# 4. Quick folder summary\n",
    "# ---------------------------------------------------------------------------\n",
    "for p in ROOT.iterdir():\n",
    "    if p.is_dir():\n",
    "        raws  = [f.name for f in (p/'raw').glob('*')]\n",
    "        procs = [f.name for f in (p/'processed').glob('*')]\n",
    "        print(f\"\\n📂 {p.name}\\n   raw : {raws}\\n   proc: {procs}\")\n"
   ]
  },
  {
   "cell_type": "markdown",
   "id": "364f3236",
   "metadata": {
    "id": "812MImhtosEq",
    "papermill": {
     "duration": 0.009629,
     "end_time": "2025-05-16T04:05:53.987717",
     "exception": false,
     "start_time": "2025-05-16T04:05:53.978088",
     "status": "completed"
    },
    "tags": []
   },
   "source": [
    "Merging datasets"
   ]
  },
  {
   "cell_type": "code",
   "execution_count": 4,
   "id": "4a929d41",
   "metadata": {
    "colab": {
     "base_uri": "https://localhost:8080/"
    },
    "execution": {
     "iopub.execute_input": "2025-09-20T14:13:03.229167Z",
     "iopub.status.busy": "2025-09-20T14:13:03.228961Z",
     "iopub.status.idle": "2025-09-20T14:13:03.256335Z",
     "shell.execute_reply": "2025-09-20T14:13:03.255676Z"
    },
    "executionInfo": {
     "elapsed": 513,
     "status": "ok",
     "timestamp": 1747144420004,
     "user": {
      "displayName": "Aayush",
      "userId": "06063773002916323156"
     },
     "user_tz": -330
    },
    "id": "tF6bL0WVorb5",
    "outputId": "1e7e0771-c699-4a12-eb78-62011099de2e",
    "papermill": {
     "duration": 0.460631,
     "end_time": "2025-05-16T04:05:54.457773",
     "exception": false,
     "start_time": "2025-05-16T04:05:53.997142",
     "status": "completed"
    },
    "tags": []
   },
   "outputs": [
    {
     "name": "stdout",
     "output_type": "stream",
     "text": [
      "⚠️  No processed CSV found for GDP_total. Skipping.\n",
      "⚠️  No processed CSV found for GDP_per_capita. Skipping.\n",
      "⚠️  No processed CSV found for GDP_growth. Skipping.\n",
      "⚠️  No processed CSV found for Inflation_CPI. Skipping.\n",
      "⚠️  No processed CSV found for GNI_total. Skipping.\n",
      "⚠️  No processed CSV found for GNI_per_capita_growth. Skipping.\n",
      "⚠️  No processed CSV found for Net_trade_goods_services. Skipping.\n",
      "⚠️  No processed CSV found for FDI_net. Skipping.\n"
     ]
    },
    {
     "ename": "TypeError",
     "evalue": "reduce() of empty iterable with no initial value",
     "output_type": "error",
     "traceback": [
      "\u001b[0;31m---------------------------------------------------------------------------\u001b[0m",
      "\u001b[0;31mTypeError\u001b[0m                                 Traceback (most recent call last)",
      "Cell \u001b[0;32mIn[4], line 49\u001b[0m\n\u001b[1;32m     46\u001b[0m \u001b[38;5;28;01mdef\u001b[39;00m\u001b[38;5;250m \u001b[39m\u001b[38;5;21mmerge_two\u001b[39m(left, right):\n\u001b[1;32m     47\u001b[0m     \u001b[38;5;28;01mreturn\u001b[39;00m pd\u001b[38;5;241m.\u001b[39mmerge(left, right, on\u001b[38;5;241m=\u001b[39m[\u001b[38;5;124m'\u001b[39m\u001b[38;5;124mcountry\u001b[39m\u001b[38;5;124m'\u001b[39m,\u001b[38;5;124m'\u001b[39m\u001b[38;5;124myear\u001b[39m\u001b[38;5;124m'\u001b[39m], how\u001b[38;5;241m=\u001b[39m\u001b[38;5;124m'\u001b[39m\u001b[38;5;124mouter\u001b[39m\u001b[38;5;124m'\u001b[39m)\n\u001b[0;32m---> 49\u001b[0m combined \u001b[38;5;241m=\u001b[39m \u001b[43mfunctools\u001b[49m\u001b[38;5;241;43m.\u001b[39;49m\u001b[43mreduce\u001b[49m\u001b[43m(\u001b[49m\u001b[43mmerge_two\u001b[49m\u001b[43m,\u001b[49m\u001b[43m \u001b[49m\u001b[43mframes\u001b[49m\u001b[43m)\u001b[49m\n\u001b[1;32m     51\u001b[0m \u001b[38;5;66;03m# ensure consistent order\u001b[39;00m\n\u001b[1;32m     52\u001b[0m final_cols \u001b[38;5;241m=\u001b[39m [\u001b[38;5;124m'\u001b[39m\u001b[38;5;124mcountry\u001b[39m\u001b[38;5;124m'\u001b[39m, \u001b[38;5;124m'\u001b[39m\u001b[38;5;124myear\u001b[39m\u001b[38;5;124m'\u001b[39m] \u001b[38;5;241m+\u001b[39m [INDICATOR_MAP[k][\u001b[38;5;241m0\u001b[39m] \u001b[38;5;28;01mfor\u001b[39;00m k \u001b[38;5;129;01min\u001b[39;00m INDICATOR_MAP]\n",
      "\u001b[0;31mTypeError\u001b[0m: reduce() of empty iterable with no initial value"
     ]
    }
   ],
   "source": [
    "# =======================================================================\n",
    "# Combine all processed CSVs → one wide dataset\n",
    "# =======================================================================\n",
    "import pandas as pd, pathlib, datetime as dt, functools\n",
    "\n",
    "# -----------------------------------------------------------------------\n",
    "# 1. Map each indicator folder to its final column name\n",
    "# -----------------------------------------------------------------------\n",
    "BASE_WB = pathlib.Path('/content/drive/MyDrive/WorldBank/India')\n",
    "\n",
    "INDICATOR_MAP = {\n",
    "    # Economic_Indicators\n",
    "    'GDP_total'               : ('gdp_usd_billions',            'Economic_Indicators'),\n",
    "    'GDP_per_capita'          : ('gdp_per_capita_usd',          'Economic_Indicators'),\n",
    "    'GDP_growth'              : ('gdp_growth_pct',              'Economic_Indicators'),\n",
    "    'Inflation_CPI'           : ('inflation_pct',               'Economic_Indicators'),\n",
    "\n",
    "    # MacroEconomics_Trade_Investment\n",
    "    'GNI_total'               : ('gni_usd_billions',            'MacroEconomics_Trade_Investment'),\n",
    "    'GNI_per_capita_growth'   : ('gni_per_capita_growth_pct',   'MacroEconomics_Trade_Investment'),\n",
    "    'Net_trade_goods_services': ('net_trade_usd',               'MacroEconomics_Trade_Investment'),\n",
    "    'FDI_net'                 : ('fdi_net_usd',                 'MacroEconomics_Trade_Investment'),\n",
    "}\n",
    "\n",
    "frames = []\n",
    "\n",
    "for slug, (colname, family) in INDICATOR_MAP.items():\n",
    "    proc_dir = BASE_WB / family / slug / 'processed'\n",
    "    csv_files = list(proc_dir.glob('*.csv'))\n",
    "    if not csv_files:\n",
    "        print(f\"⚠️  No processed CSV found for {slug}. Skipping.\")\n",
    "        continue\n",
    "    csv_path = csv_files[0]                   # only one by design\n",
    "    df = pd.read_csv(csv_path)\n",
    "\n",
    "    # keep only common + value col, rename value\n",
    "    df = df[['country', 'year', df.columns.difference(['country','year'])[0]]]\n",
    "    df = df.rename(columns={df.columns[-1]: colname})\n",
    "    frames.append(df)\n",
    "\n",
    "    print(f\"✓ loaded {slug}: rows={len(df)}  →  column '{colname}'\")\n",
    "\n",
    "# -----------------------------------------------------------------------\n",
    "# 2. Merge all on (country, year)\n",
    "# -----------------------------------------------------------------------\n",
    "def merge_two(left, right):\n",
    "    return pd.merge(left, right, on=['country','year'], how='outer')\n",
    "\n",
    "combined = functools.reduce(merge_two, frames)\n",
    "\n",
    "# ensure consistent order\n",
    "final_cols = ['country', 'year'] + [INDICATOR_MAP[k][0] for k in INDICATOR_MAP]\n",
    "combined = combined[final_cols]\n",
    "\n",
    "print(\"\\nMerged rows:\", len(combined))\n",
    "\n",
    "# -----------------------------------------------------------------------\n",
    "# 3. Save combined data  ➜  always the same filename\n",
    "# -----------------------------------------------------------------------\n",
    "COMB_DIR = BASE_WB / 'Combined_Datasets'\n",
    "COMB_DIR.mkdir(exist_ok=True)\n",
    "\n",
    "for f in COMB_DIR.glob('*.csv'):     # remove any earlier combined file(s)\n",
    "    f.unlink()\n",
    "\n",
    "out_path = COMB_DIR / \"India_combined_indicators.csv\"   # ← static name\n",
    "combined.to_csv(out_path, index=False)\n",
    "\n",
    "print(\"🚚 Combined dataset saved →\", out_path)\n"
   ]
  }
 ],
 "metadata": {
  "colab": {
   "authorship_tag": "ABX9TyPbQC2d46LWupTL9VDJcpPM",
   "provenance": []
  },
  "kernelspec": {
   "display_name": "Python 3",
   "name": "python3"
  },
  "language_info": {
   "codemirror_mode": {
    "name": "ipython",
    "version": 3
   },
   "file_extension": ".py",
   "mimetype": "text/x-python",
   "name": "python",
   "nbconvert_exporter": "python",
   "pygments_lexer": "ipython3",
   "version": "3.10.18"
  },
  "papermill": {
   "default_parameters": {},
   "duration": 137.796732,
   "end_time": "2025-05-16T04:05:54.979153",
   "environment_variables": {},
   "exception": null,
   "input_path": "/content/drive/MyDrive/Colab Notebooks/RAW-file-fetch.ipynb",
   "output_path": "/content/drive/MyDrive/Colab Notebooks/RAW-file-fetch.ipynb",
   "parameters": {},
   "start_time": "2025-05-16T04:03:37.182421",
   "version": "2.6.0"
  }
 },
 "nbformat": 4,
 "nbformat_minor": 5
}
