{
 "cells": [
  {
   "cell_type": "code",
   "execution_count": 1,
   "id": "6c568b60",
   "metadata": {
    "colab": {
     "base_uri": "https://localhost:8080/"
    },
    "execution": {
     "iopub.execute_input": "2025-05-16T05:13:33.331494Z",
     "iopub.status.busy": "2025-05-16T05:13:33.330820Z",
     "iopub.status.idle": "2025-05-16T05:15:38.998878Z",
     "shell.execute_reply": "2025-05-16T05:15:38.997946Z"
    },
    "executionInfo": {
     "elapsed": 11677,
     "status": "ok",
     "timestamp": 1747228470118,
     "user": {
      "displayName": "Aayush",
      "userId": "06063773002916323156"
     },
     "user_tz": -330
    },
    "id": "yin62ZkQ6ZF0",
    "outputId": "62da4565-bfea-41ab-ccb8-a74a72e0585d",
    "papermill": {
     "duration": 10.07248,
     "end_time": "2025-05-16T04:06:06.918316",
     "exception": false,
     "start_time": "2025-05-16T04:05:56.845836",
     "status": "completed"
    },
    "tags": []
   },
   "outputs": [
    {
     "name": "stdout",
     "output_type": "stream",
     "text": [
      "Mounted at /content/drive\n"
     ]
    }
   ],
   "source": [
    "# 1. Install & mount\n",
    "!pip -q install --upgrade pandas==2.2.2 requests\n",
    "from google.colab import drive\n",
    "drive.mount(\"/content/drive\", force_remount=True)\n",
    "\n",
    "# 2. Imports & helper to fetch \"csvfilewithlabels\" (handles ZIP)\n",
    "import requests, pathlib, io, zipfile, shutil, pandas as pd, re\n",
    "\n",
    "def fetch_csv(url: str, dest: pathlib.Path):\n",
    "    dest.parent.mkdir(parents=True, exist_ok=True)\n",
    "    r = requests.get(url, timeout=180); r.raise_for_status()\n",
    "    if r.content[:4] == b\"PK\\x03\\x04\":              # zipped payload\n",
    "        with zipfile.ZipFile(io.BytesIO(r.content)) as z:\n",
    "            name = next(n for n in z.namelist() if n.endswith(\".csv\"))\n",
    "            with z.open(name) as src, open(dest, \"wb\") as tgt:\n",
    "                shutil.copyfileobj(src, tgt)\n",
    "    else:\n",
    "        dest.write_bytes(r.content)\n"
   ]
  },
  {
   "cell_type": "code",
   "execution_count": 2,
   "id": "56966548",
   "metadata": {
    "colab": {
     "base_uri": "https://localhost:8080/"
    },
    "execution": {
     "iopub.execute_input": "2025-05-16T05:15:39.003102Z",
     "iopub.status.busy": "2025-05-16T05:15:39.002632Z",
     "iopub.status.idle": "2025-05-16T05:15:50.704382Z",
     "shell.execute_reply": "2025-05-16T05:15:50.703426Z"
    },
    "executionInfo": {
     "elapsed": 3466,
     "status": "ok",
     "timestamp": 1747228473596,
     "user": {
      "displayName": "Aayush",
      "userId": "06063773002916323156"
     },
     "user_tz": -330
    },
    "id": "cV35zDhe0h4Z",
    "outputId": "d76e83a8-8e13-42f4-a562-dacaadb37761",
    "papermill": {
     "duration": null,
     "end_time": null,
     "exception": null,
     "start_time": null,
     "status": "completed"
    },
    "tags": []
   },
   "outputs": [
    {
     "name": "stdout",
     "output_type": "stream",
     "text": [
      "▶ Balance_of_Payments: downloading…\n"
     ]
    },
    {
     "name": "stdout",
     "output_type": "stream",
     "text": [
      "   ✓ Balance_of_Payments saved → columns: ['country', 'time_period', 'bop_usd', 'currency', 'measure']  rows: 2205\n"
     ]
    },
    {
     "name": "stdout",
     "output_type": "stream",
     "text": [
      "▶ GFCF: downloading…\n"
     ]
    },
    {
     "name": "stdout",
     "output_type": "stream",
     "text": [
      "   ✓ GFCF saved → columns: ['country', 'time_period', 'gfcf_usd', 'currency', 'measure']  rows: 2408\n"
     ]
    },
    {
     "name": "stdout",
     "output_type": "stream",
     "text": [
      "▶ PPP: downloading…\n"
     ]
    },
    {
     "name": "stdout",
     "output_type": "stream",
     "text": [
      "   ✓ PPP saved → columns: ['country', 'time_period', 'ppp_gdp', 'currency', 'measure']  rows: 630\n"
     ]
    },
    {
     "name": "stdout",
     "output_type": "stream",
     "text": [
      "▶ CPI: downloading…\n"
     ]
    },
    {
     "name": "stdout",
     "output_type": "stream",
     "text": [
      "   ✓ CPI saved → columns: ['country', 'time_period', 'cpi_pct', 'currency', 'measure']  rows: 1297\n"
     ]
    }
   ],
   "source": [
    "BASE = pathlib.Path(\"/content/drive/MyDrive/OECD/global/economy_external_sector\")\n",
    "CONFIG = [\n",
    "  # slug,                URL,                                             out_name,    to_mn,  has_currency,  has_measure_col\n",
    "  (\"Balance_of_Payments\",\n",
    "   \"https://sdmx.oecd.org/public/rest/data/\"\n",
    "   \"OECD.SDD.TPS,DSD_BOP@DF_BOP,1.0/.....Q.XDC.Y\"\n",
    "   \"?startPeriod=2024-Q1&dimensionAtObservation=AllDimensions&format=csvfilewithlabels\",\n",
    "   \"bop_usd\",    True,   True,  True),\n",
    "  (\"GFCF\",\n",
    "   \"https://sdmx.oecd.org/public/rest/data/\"\n",
    "   \"OECD.SDD.NAD,DSD_NAMAIN10@DF_TABLE1_EXPENDITURE_GFCF_ASSET,2.0/\"\n",
    "   \"A....P51G....XDC.V..\"\n",
    "   \"?startPeriod=2020&dimensionAtObservation=AllDimensions&format=csvfilewithlabels\",\n",
    "   \"gfcf_usd\",   True,   True,  False),\n",
    "  (\"PPP\",\n",
    "   \"https://sdmx.oecd.org/public/rest/data/\"\n",
    "   \"OECD.SDD.NAD,DSD_NAMAIN10@DF_TABLE4,2.0/A....PPP_B1GQ.......\"\n",
    "   \"?startPeriod=2015&dimensionAtObservation=AllDimensions&format=csvfilewithlabels\",\n",
    "   \"ppp_gdp\",    False,  True,  False),\n",
    "  (\"CPI\",\n",
    "   \"https://sdmx.oecd.org/public/rest/data/\"\n",
    "   \"OECD.SDD.TPS,DSD_PRICES@DF_PRICES_ALL,1.0/.Q.N.CPI.._T.N.GY+_Z\"\n",
    "   \"?startPeriod=2022-Q1&dimensionAtObservation=AllDimensions&format=csvfilewithlabels\",\n",
    "   \"cpi_pct\",    False,  False, False),\n",
    "]\n",
    "\n",
    "processed = {}\n",
    "\n",
    "def time_col(df):\n",
    "    return \"TIME_PERIOD\" if \"TIME_PERIOD\" in df.columns else \"Time period\"\n",
    "\n",
    "for slug, url, out_name, to_mn, has_cur, has_meas in CONFIG:\n",
    "    RAW  = BASE/slug/\"raw\";       PROC = BASE/slug/\"processed\"\n",
    "    for d in (RAW, PROC): d.mkdir(parents=True, exist_ok=True)\n",
    "    # remove old files\n",
    "    for f in RAW.glob(\"*.csv\"): f.unlink()\n",
    "    for f in PROC.glob(\"*.csv\"): f.unlink()\n",
    "\n",
    "    # fetch raw\n",
    "    raw_f = RAW/f\"OECD_{slug}_raw.csv\"\n",
    "    print(f\"▶ {slug}: downloading…\")\n",
    "    fetch_csv(url, raw_f)\n",
    "\n",
    "    df = pd.read_csv(raw_f)\n",
    "    tc = time_col(df)\n",
    "\n",
    "    # select & rename\n",
    "    cols = {\"Reference area\":\"country\", tc:\"time_period\", \"OBS_VALUE\":out_name}\n",
    "    if has_cur: cols[\"Currency\"] = \"currency\"\n",
    "    if has_meas: cols[\"Measure\"]  = \"measure\"\n",
    "\n",
    "    df = df[list(cols)].rename(columns=cols)\n",
    "\n",
    "    # fill defaults\n",
    "    if not has_cur:   df[\"currency\"] = \"X\"\n",
    "    if not has_meas:  df[\"measure\"]  = \"X\"\n",
    "\n",
    "    # units → millions\n",
    "    if to_mn:\n",
    "        df[out_name] = df[out_name] / 1e6\n",
    "\n",
    "    # save processed\n",
    "    proc_f = PROC/f\"OECD_{slug}_clean.csv\"\n",
    "    df.to_csv(proc_f, index=False)\n",
    "    processed[out_name] = proc_f\n",
    "    print(f\"   ✓ {slug} saved → columns: {list(df.columns)}  rows: {len(df)}\")\n"
   ]
  },
  {
   "cell_type": "code",
   "execution_count": 3,
   "id": "8ca00b4f",
   "metadata": {
    "colab": {
     "base_uri": "https://localhost:8080/",
     "height": 224
    },
    "execution": {
     "iopub.execute_input": "2025-05-16T05:15:50.707779Z",
     "iopub.status.busy": "2025-05-16T05:15:50.707485Z",
     "iopub.status.idle": "2025-05-16T05:15:50.933396Z",
     "shell.execute_reply": "2025-05-16T05:15:50.932561Z"
    },
    "executionInfo": {
     "elapsed": 753,
     "status": "ok",
     "timestamp": 1747228474365,
     "user": {
      "displayName": "Aayush",
      "userId": "06063773002916323156"
     },
     "user_tz": -330
    },
    "id": "7JkBgqkr0nlE",
    "outputId": "ecc76be4-9ba0-4ba4-d4ef-941b8281efc2",
    "papermill": {
     "duration": null,
     "end_time": null,
     "exception": null,
     "start_time": null,
     "status": "completed"
    },
    "tags": []
   },
   "outputs": [
    {
     "name": "stdout",
     "output_type": "stream",
     "text": [
      "✅ combined saved → /content/drive/MyDrive/OECD/global/economy_external_sector/combined_indicators/OECD_external_sector_combined.csv | rows: 6265\n"
     ]
    },
    {
     "data": {
      "text/html": [
       "\n",
       "  <div id=\"df-36144d5d-e572-4881-ad12-b7ffe0cfedac\" class=\"colab-df-container\">\n",
       "    <div>\n",
       "<style scoped>\n",
       "    .dataframe tbody tr th:only-of-type {\n",
       "        vertical-align: middle;\n",
       "    }\n",
       "\n",
       "    .dataframe tbody tr th {\n",
       "        vertical-align: top;\n",
       "    }\n",
       "\n",
       "    .dataframe thead th {\n",
       "        text-align: right;\n",
       "    }\n",
       "</style>\n",
       "<table border=\"1\" class=\"dataframe\">\n",
       "  <thead>\n",
       "    <tr style=\"text-align: right;\">\n",
       "      <th></th>\n",
       "      <th>country</th>\n",
       "      <th>currency</th>\n",
       "      <th>time_period</th>\n",
       "      <th>measure</th>\n",
       "      <th>BoP_Mn</th>\n",
       "      <th>GFCF_Mn</th>\n",
       "      <th>PPP</th>\n",
       "      <th>CPI_%PA</th>\n",
       "    </tr>\n",
       "  </thead>\n",
       "  <tbody>\n",
       "    <tr>\n",
       "      <th>0</th>\n",
       "      <td>Albania</td>\n",
       "      <td>Lek</td>\n",
       "      <td>2015</td>\n",
       "      <td>X</td>\n",
       "      <td>NaN</td>\n",
       "      <td>NaN</td>\n",
       "      <td>42.694260</td>\n",
       "      <td>NaN</td>\n",
       "    </tr>\n",
       "    <tr>\n",
       "      <th>1</th>\n",
       "      <td>Albania</td>\n",
       "      <td>Lek</td>\n",
       "      <td>2016</td>\n",
       "      <td>X</td>\n",
       "      <td>NaN</td>\n",
       "      <td>NaN</td>\n",
       "      <td>42.385663</td>\n",
       "      <td>NaN</td>\n",
       "    </tr>\n",
       "    <tr>\n",
       "      <th>2</th>\n",
       "      <td>Albania</td>\n",
       "      <td>Lek</td>\n",
       "      <td>2017</td>\n",
       "      <td>X</td>\n",
       "      <td>NaN</td>\n",
       "      <td>NaN</td>\n",
       "      <td>42.255342</td>\n",
       "      <td>NaN</td>\n",
       "    </tr>\n",
       "    <tr>\n",
       "      <th>3</th>\n",
       "      <td>Albania</td>\n",
       "      <td>Lek</td>\n",
       "      <td>2018</td>\n",
       "      <td>X</td>\n",
       "      <td>NaN</td>\n",
       "      <td>NaN</td>\n",
       "      <td>42.302988</td>\n",
       "      <td>NaN</td>\n",
       "    </tr>\n",
       "    <tr>\n",
       "      <th>4</th>\n",
       "      <td>Albania</td>\n",
       "      <td>Lek</td>\n",
       "      <td>2019</td>\n",
       "      <td>X</td>\n",
       "      <td>NaN</td>\n",
       "      <td>NaN</td>\n",
       "      <td>40.550438</td>\n",
       "      <td>NaN</td>\n",
       "    </tr>\n",
       "  </tbody>\n",
       "</table>\n",
       "</div>\n",
       "    <div class=\"colab-df-buttons\">\n",
       "      \n",
       "  <div class=\"colab-df-container\">\n",
       "    <button class=\"colab-df-convert\" onclick=\"convertToInteractive('df-36144d5d-e572-4881-ad12-b7ffe0cfedac')\"\n",
       "            title=\"Convert this dataframe to an interactive table.\"\n",
       "            style=\"display:none;\">\n",
       "      \n",
       "  <svg xmlns=\"http://www.w3.org/2000/svg\" height=\"24px\" viewBox=\"0 -960 960 960\">\n",
       "    <path d=\"M120-120v-720h720v720H120Zm60-500h600v-160H180v160Zm220 220h160v-160H400v160Zm0 220h160v-160H400v160ZM180-400h160v-160H180v160Zm440 0h160v-160H620v160ZM180-180h160v-160H180v160Zm440 0h160v-160H620v160Z\"/>\n",
       "  </svg>\n",
       "    </button>\n",
       "    \n",
       "  <style>\n",
       "    .colab-df-container {\n",
       "      display:flex;\n",
       "      gap: 12px;\n",
       "    }\n",
       "\n",
       "    .colab-df-convert {\n",
       "      background-color: #E8F0FE;\n",
       "      border: none;\n",
       "      border-radius: 50%;\n",
       "      cursor: pointer;\n",
       "      display: none;\n",
       "      fill: #1967D2;\n",
       "      height: 32px;\n",
       "      padding: 0 0 0 0;\n",
       "      width: 32px;\n",
       "    }\n",
       "\n",
       "    .colab-df-convert:hover {\n",
       "      background-color: #E2EBFA;\n",
       "      box-shadow: 0px 1px 2px rgba(60, 64, 67, 0.3), 0px 1px 3px 1px rgba(60, 64, 67, 0.15);\n",
       "      fill: #174EA6;\n",
       "    }\n",
       "\n",
       "    .colab-df-buttons div {\n",
       "      margin-bottom: 4px;\n",
       "    }\n",
       "\n",
       "    [theme=dark] .colab-df-convert {\n",
       "      background-color: #3B4455;\n",
       "      fill: #D2E3FC;\n",
       "    }\n",
       "\n",
       "    [theme=dark] .colab-df-convert:hover {\n",
       "      background-color: #434B5C;\n",
       "      box-shadow: 0px 1px 3px 1px rgba(0, 0, 0, 0.15);\n",
       "      filter: drop-shadow(0px 1px 2px rgba(0, 0, 0, 0.3));\n",
       "      fill: #FFFFFF;\n",
       "    }\n",
       "  </style>\n",
       "\n",
       "    <script>\n",
       "      const buttonEl =\n",
       "        document.querySelector('#df-36144d5d-e572-4881-ad12-b7ffe0cfedac button.colab-df-convert');\n",
       "      buttonEl.style.display =\n",
       "        google.colab.kernel.accessAllowed ? 'block' : 'none';\n",
       "\n",
       "      async function convertToInteractive(key) {\n",
       "        const element = document.querySelector('#df-36144d5d-e572-4881-ad12-b7ffe0cfedac');\n",
       "        const dataTable =\n",
       "          await google.colab.kernel.invokeFunction('convertToInteractive',\n",
       "                                                    [key], {});\n",
       "        if (!dataTable) return;\n",
       "\n",
       "        const docLinkHtml = 'Like what you see? Visit the ' +\n",
       "          '<a target=\"_blank\" href=https://colab.research.google.com/notebooks/data_table.ipynb>data table notebook</a>'\n",
       "          + ' to learn more about interactive tables.';\n",
       "        element.innerHTML = '';\n",
       "        dataTable['output_type'] = 'display_data';\n",
       "        await google.colab.output.renderOutput(dataTable, element);\n",
       "        const docLink = document.createElement('div');\n",
       "        docLink.innerHTML = docLinkHtml;\n",
       "        element.appendChild(docLink);\n",
       "      }\n",
       "    </script>\n",
       "  </div>\n",
       "  \n",
       "    </div>\n",
       "  </div>\n",
       "  "
      ],
      "text/plain": [
       "   country currency time_period measure  BoP_Mn  GFCF_Mn        PPP  CPI_%PA\n",
       "0  Albania      Lek        2015       X     NaN      NaN  42.694260      NaN\n",
       "1  Albania      Lek        2016       X     NaN      NaN  42.385663      NaN\n",
       "2  Albania      Lek        2017       X     NaN      NaN  42.255342      NaN\n",
       "3  Albania      Lek        2018       X     NaN      NaN  42.302988      NaN\n",
       "4  Albania      Lek        2019       X     NaN      NaN  40.550438      NaN"
      ]
     },
     "execution_count": 3,
     "metadata": {},
     "output_type": "execute_result"
    }
   ],
   "source": [
    "import functools\n",
    "\n",
    "# load & harmonize\n",
    "frames = []\n",
    "for out_name, path in processed.items():\n",
    "    df = pd.read_csv(path)\n",
    "    # ensure strings for keys\n",
    "    for k in [\"country\",\"currency\",\"time_period\",\"measure\"]:\n",
    "        df[k] = df[k].astype(str)\n",
    "    frames.append(df)\n",
    "\n",
    "# merge on 4 keys\n",
    "combined = functools.reduce(\n",
    "    lambda L,R: pd.merge(L, R, on=[\"country\",\"currency\",\"time_period\",\"measure\"], how=\"outer\"),\n",
    "    frames\n",
    ")\n",
    "\n",
    "# reorder / rename as spec\n",
    "combined = combined[[\n",
    "    \"country\",\"currency\",\"time_period\",\"measure\",\n",
    "    \"bop_usd\",\"gfcf_usd\",\"ppp_gdp\",\"cpi_pct\"\n",
    "]].rename(columns={\n",
    "    \"bop_usd\":\"BoP_Mn\",\n",
    "    \"gfcf_usd\":\"GFCF_Mn\",\n",
    "    \"ppp_gdp\":\"PPP\",\n",
    "    \"cpi_pct\":\"CPI_%PA\"\n",
    "})\n",
    "\n",
    "# save combined\n",
    "OUT = BASE/\"combined_indicators\"; OUT.mkdir(exist_ok=True)\n",
    "for f in OUT.glob(\"*.csv\"): f.unlink()\n",
    "combined.to_csv(OUT/\"OECD_external_sector_combined.csv\", index=False)\n",
    "\n",
    "print(\"✅ combined saved →\", OUT/\"OECD_external_sector_combined.csv\",\n",
    "      \"| rows:\", len(combined))\n",
    "combined.head()\n"
   ]
  }
 ],
 "metadata": {
  "colab": {
   "authorship_tag": "ABX9TyM0U8DpiHX6qFBApW+gXnPd",
   "provenance": []
  },
  "kernelspec": {
   "display_name": "Python 3",
   "name": "python3"
  },
  "language_info": {
   "codemirror_mode": {
    "name": "ipython",
    "version": 3
   },
   "file_extension": ".py",
   "mimetype": "text/x-python",
   "name": "python",
   "nbconvert_exporter": "python",
   "pygments_lexer": "ipython3",
   "version": "3.11.12"
  },
  "papermill": {
   "default_parameters": {},
   "duration": 11.970689,
   "end_time": "2025-05-16T04:06:07.331664",
   "environment_variables": {},
   "exception": null,
   "input_path": "/content/drive/MyDrive/Colab Notebooks/OECD-Economy external.ipynb",
   "output_path": "/content/drive/MyDrive/Colab Notebooks/OECD-Economy external.ipynb",
   "parameters": {},
   "start_time": "2025-05-16T04:05:55.360975",
   "version": "2.6.0"
  }
 },
 "nbformat": 4,
 "nbformat_minor": 5
}
