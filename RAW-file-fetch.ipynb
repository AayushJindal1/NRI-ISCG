{
 "cells": [
  {
   "cell_type": "code",
   "execution_count": 1,
   "id": "99da05fa",
   "metadata": {
    "colab": {
     "base_uri": "https://localhost:8080/"
    },
    "execution": {
     "iopub.execute_input": "2025-05-16T05:15:55.425425Z",
     "iopub.status.busy": "2025-05-16T05:15:55.424808Z",
     "iopub.status.idle": "2025-05-16T05:15:59.244015Z",
     "shell.execute_reply": "2025-05-16T05:15:59.243101Z"
    },
    "executionInfo": {
     "elapsed": 4329,
     "status": "ok",
     "timestamp": 1747144400272,
     "user": {
      "displayName": "Aayush",
      "userId": "06063773002916323156"
     },
     "user_tz": -330
    },
    "id": "VRTMYfFyiOj5",
    "outputId": "31a4f81e-7d0d-4ef2-aade-dee55db8b96c",
    "papermill": {
     "duration": 5.121908,
     "end_time": "2025-05-16T04:03:43.770391",
     "exception": false,
     "start_time": "2025-05-16T04:03:38.648483",
     "status": "completed"
    },
    "tags": []
   },
   "outputs": [
    {
     "name": "stdout",
     "output_type": "stream",
     "text": [
      "✅ pandas version: 2.2.2\n"
     ]
    }
   ],
   "source": [
    "!pip install -q --upgrade pandas==2.2.2 requests\n",
    "import importlib, pandas as pd; importlib.reload(pd)\n",
    "print(\"✅ pandas version:\", pd.__version__)\n"
   ]
  },
  {
   "cell_type": "markdown",
   "id": "90927c7f",
   "metadata": {
    "id": "6UcUe1Rf5c6B",
    "papermill": {
     "duration": 0.008541,
     "end_time": "2025-05-16T04:03:43.787698",
     "exception": false,
     "start_time": "2025-05-16T04:03:43.779157",
     "status": "completed"
    },
    "tags": []
   },
   "source": [
    "World Bank- Economic Indicators"
   ]
  },
  {
   "cell_type": "code",
   "execution_count": 2,
   "id": "ad9d2e77",
   "metadata": {
    "colab": {
     "base_uri": "https://localhost:8080/"
    },
    "execution": {
     "iopub.execute_input": "2025-05-16T05:15:59.247967Z",
     "iopub.status.busy": "2025-05-16T05:15:59.247554Z",
     "iopub.status.idle": "2025-05-16T05:18:06.587990Z",
     "shell.execute_reply": "2025-05-16T05:18:06.587028Z"
    },
    "executionInfo": {
     "elapsed": 16337,
     "status": "ok",
     "timestamp": 1747144416607,
     "user": {
      "displayName": "Aayush",
      "userId": "06063773002916323156"
     },
     "user_tz": -330
    },
    "id": "RCm1MLLd02vT",
    "outputId": "195aa627-6525-44df-9564-df6a8a609c94",
    "papermill": {
     "duration": 126.841496,
     "end_time": "2025-05-16T04:05:50.636635",
     "exception": false,
     "start_time": "2025-05-16T04:03:43.795139",
     "status": "completed"
    },
    "tags": []
   },
   "outputs": [
    {
     "name": "stdout",
     "output_type": "stream",
     "text": [
      "Mounted at /content/drive\n",
      "\n",
      "▶ NY.GDP.MKTP.CD  ➜  GDP_total\n"
     ]
    },
    {
     "name": "stdout",
     "output_type": "stream",
     "text": [
      "   ✓ raw CSV: NY.GDP.MKTP.CD_raw_20250516.csv\n",
      "   ✓ processed CSV: GDP_total_1960_2023.csv\n",
      "\n",
      "▶ NY.GDP.PCAP.CD  ➜  GDP_per_capita\n"
     ]
    },
    {
     "name": "stdout",
     "output_type": "stream",
     "text": [
      "   ✓ raw CSV: NY.GDP.PCAP.CD_raw_20250516.csv\n",
      "   ✓ processed CSV: GDP_per_capita_1960_2023.csv\n",
      "\n",
      "▶ NY.GDP.MKTP.KD.ZG  ➜  GDP_growth\n"
     ]
    },
    {
     "name": "stdout",
     "output_type": "stream",
     "text": [
      "   ✓ raw CSV: NY.GDP.MKTP.KD.ZG_raw_20250516.csv\n",
      "   ✓ processed CSV: GDP_growth_1961_2023.csv\n",
      "\n",
      "▶ FP.CPI.TOTL.ZG  ➜  Inflation_CPI\n"
     ]
    },
    {
     "name": "stdout",
     "output_type": "stream",
     "text": [
      "   ✓ raw CSV: FP.CPI.TOTL.ZG_raw_20250516.csv\n",
      "   ✓ processed CSV: Inflation_CPI_1960_2024.csv\n",
      "\n",
      "📂 GDP_per_capita\n",
      "   raw : ['NY.GDP.PCAP.CD_raw_20250516.csv']\n",
      "   proc: ['GDP_per_capita_1960_2023.csv']\n",
      "\n",
      "📂 GDP_growth\n",
      "   raw : ['NY.GDP.MKTP.KD.ZG_raw_20250516.csv']\n",
      "   proc: ['GDP_growth_1961_2023.csv']\n",
      "\n",
      "📂 Inflation_CPI\n",
      "   raw : ['FP.CPI.TOTL.ZG_raw_20250516.csv']\n",
      "   proc: ['Inflation_CPI_1960_2024.csv']\n",
      "\n",
      "📂 GDP_total\n",
      "   raw : ['NY.GDP.MKTP.CD_raw_20250516.csv']\n",
      "   proc: ['GDP_total_1960_2023.csv']\n"
     ]
    }
   ],
   "source": [
    "# =======================================================================\n",
    "# 0. Install deps & mount Google Drive\n",
    "# =======================================================================\n",
    "!pip -q install --upgrade pandas==2.2.2 requests   # pin to Colab‑compatible pandas\n",
    "\n",
    "from google.colab import drive\n",
    "drive.mount('/content/drive', force_remount=True)\n",
    "\n",
    "# =======================================================================\n",
    "# 1. Config – indicator list & folder root\n",
    "# =======================================================================\n",
    "import pathlib, datetime as dt, requests, zipfile, io, shutil, pandas as pd\n",
    "\n",
    "TODAY      = dt.date.today().strftime(\"%Y%m%d\")\n",
    "ROOT       = pathlib.Path('/content/drive/MyDrive/WorldBank/India/Economic_Indicators')\n",
    "\n",
    "INDICATORS = [\n",
    "    # (World Bank code, folder‑slug, tidy value‑column name)\n",
    "    (\"NY.GDP.MKTP.CD\",     \"GDP_total\",        \"gdp_usd_billions\"   ),\n",
    "    (\"NY.GDP.PCAP.CD\",     \"GDP_per_capita\",   \"gdp_per_capita_usd\" ),\n",
    "    (\"NY.GDP.MKTP.KD.ZG\",  \"GDP_growth\",       \"gdp_growth_pct\"     ),\n",
    "    (\"FP.CPI.TOTL.ZG\",     \"Inflation_CPI\",    \"inflation_pct\"      ),\n",
    "]\n",
    "\n",
    "# =======================================================================\n",
    "# 2. Helper: download -> raw CSV -> tidy -> processed CSV\n",
    "# =======================================================================\n",
    "def refresh_indicator(code, slug, value_col):\n",
    "    raw_dir  = ROOT / slug / 'raw'\n",
    "    proc_dir = ROOT / slug / 'processed'\n",
    "    raw_dir.mkdir(parents=True, exist_ok=True)\n",
    "    proc_dir.mkdir(parents=True, exist_ok=True)\n",
    "\n",
    "    wb_url = f\"https://api.worldbank.org/v2/en/indicator/{code}?downloadformat=csv\"\n",
    "    print(f\"\\n▶ {code}  ➜  {slug}\")\n",
    "\n",
    "    # --- (a) Download ZIP & write ONE raw CSV ---------------------------------\n",
    "    resp = requests.get(wb_url, timeout=120)\n",
    "    resp.raise_for_status()\n",
    "\n",
    "    with zipfile.ZipFile(io.BytesIO(resp.content)) as z:\n",
    "        csv_name = next(n for n in z.namelist() if n.startswith('API_') and n.endswith('.csv'))\n",
    "        raw_csv  = raw_dir / f\"{code}_raw_{TODAY}.csv\"\n",
    "\n",
    "        # remove any previous raw file\n",
    "        for f in raw_dir.glob('*.csv'):\n",
    "            f.unlink()\n",
    "\n",
    "        with z.open(csv_name) as src, open(raw_csv, 'wb') as tgt:\n",
    "            shutil.copyfileobj(src, tgt)\n",
    "    print(\"   ✓ raw CSV:\", raw_csv.name)\n",
    "\n",
    "    # --- (b) Tidy all countries & years ---------------------------------------\n",
    "    df = pd.read_csv(raw_csv, skiprows=4)\n",
    "    df = df.drop(columns=['Country Code', 'Indicator Name', 'Indicator Code'])\n",
    "\n",
    "    tidy = (\n",
    "        df.melt(id_vars='Country Name', var_name='year', value_name=value_col)\n",
    "          .rename(columns={'Country Name': 'country'})\n",
    "    )\n",
    "    tidy['year'] = pd.to_numeric(tidy['year'], errors='coerce').astype('Int64')\n",
    "    tidy[value_col] = pd.to_numeric(tidy[value_col], errors='coerce')\n",
    "    tidy = tidy.dropna(subset=[value_col]).reset_index(drop=True)\n",
    "\n",
    "    # --- (c) write ONE processed file -----------------------------------------\n",
    "    for f in proc_dir.glob('*.csv'):\n",
    "        f.unlink()\n",
    "\n",
    "    proc_csv = proc_dir / f\"{slug}_{tidy['year'].min()}_{tidy['year'].max()}.csv\"\n",
    "    tidy.to_csv(proc_csv, index=False)\n",
    "    print(\"   ✓ processed CSV:\", proc_csv.name)\n",
    "    return raw_dir, proc_dir\n",
    "\n",
    "# =======================================================================\n",
    "# 3. Run refresh for every indicator\n",
    "# =======================================================================\n",
    "for code, slug, valcol in INDICATORS:\n",
    "    refresh_indicator(code, slug, valcol)\n",
    "\n",
    "# =======================================================================\n",
    "# 4. Folder summary\n",
    "# =======================================================================\n",
    "for path in ROOT.iterdir():\n",
    "    if path.is_dir():\n",
    "        raws = [p.name for p in (path/'raw').glob('*')]\n",
    "        pros = [p.name for p in (path/'processed').glob('*')]\n",
    "        print(f\"\\n📂 {path.name}\\n   raw : {raws}\\n   proc: {pros}\")\n"
   ]
  },
  {
   "cell_type": "markdown",
   "id": "22dcb727",
   "metadata": {
    "id": "_o0i1qWNPyFh",
    "papermill": {
     "duration": 0.010002,
     "end_time": "2025-05-16T04:05:50.655797",
     "exception": false,
     "start_time": "2025-05-16T04:05:50.645795",
     "status": "completed"
    },
    "tags": []
   },
   "source": [
    "Macroeconomics, Trade & Investment"
   ]
  },
  {
   "cell_type": "code",
   "execution_count": 3,
   "id": "c7d40cc2",
   "metadata": {
    "colab": {
     "base_uri": "https://localhost:8080/"
    },
    "execution": {
     "iopub.execute_input": "2025-05-16T05:18:06.592105Z",
     "iopub.status.busy": "2025-05-16T05:18:06.591806Z",
     "iopub.status.idle": "2025-05-16T05:18:08.529431Z",
     "shell.execute_reply": "2025-05-16T05:18:08.528410Z"
    },
    "executionInfo": {
     "elapsed": 2876,
     "status": "ok",
     "timestamp": 1747144419488,
     "user": {
      "displayName": "Aayush",
      "userId": "06063773002916323156"
     },
     "user_tz": -330
    },
    "id": "WDmT6dJTPwqF",
    "outputId": "7f02046d-2a71-4315-8b9d-88da8207df5d",
    "papermill": {
     "duration": 3.296766,
     "end_time": "2025-05-16T04:05:53.967774",
     "exception": false,
     "start_time": "2025-05-16T04:05:50.671008",
     "status": "completed"
    },
    "tags": []
   },
   "outputs": [
    {
     "name": "stdout",
     "output_type": "stream",
     "text": [
      "\n",
      "▶ NY.GNP.MKTP.CD  ➜  GNI_total\n"
     ]
    },
    {
     "name": "stdout",
     "output_type": "stream",
     "text": [
      "   ✓ raw CSV: NY.GNP.MKTP.CD_raw_20250516.csv\n",
      "   ✓ processed CSV: GNI_total_1960_2023.csv\n",
      "\n",
      "▶ NY.GNP.PCAP.KD.ZG  ➜  GNI_per_capita_growth\n"
     ]
    },
    {
     "name": "stdout",
     "output_type": "stream",
     "text": [
      "   ✓ raw CSV: NY.GNP.PCAP.KD.ZG_raw_20250516.csv\n",
      "   ✓ processed CSV: GNI_per_capita_growth_1961_2023.csv\n",
      "\n",
      "▶ BN.GSR.GNFS.CD  ➜  Net_trade_goods_services\n"
     ]
    },
    {
     "name": "stdout",
     "output_type": "stream",
     "text": [
      "   ✓ raw CSV: BN.GSR.GNFS.CD_raw_20250516.csv\n",
      "   ✓ processed CSV: Net_trade_goods_services_1960_2024.csv\n",
      "\n",
      "▶ BN.KLT.DINV.CD  ➜  FDI_net\n"
     ]
    },
    {
     "name": "stdout",
     "output_type": "stream",
     "text": [
      "   ✓ raw CSV: BN.KLT.DINV.CD_raw_20250516.csv\n",
      "   ✓ processed CSV: FDI_net_1960_2024.csv\n",
      "\n",
      "📂 GNI_total\n",
      "   raw : ['NY.GNP.MKTP.CD_raw_20250516.csv']\n",
      "   proc: ['GNI_total_1960_2023.csv']\n",
      "\n",
      "📂 GNI_per_capita_growth\n",
      "   raw : ['NY.GNP.PCAP.KD.ZG_raw_20250516.csv']\n",
      "   proc: ['GNI_per_capita_growth_1961_2023.csv']\n",
      "\n",
      "📂 Net_trade_goods_services\n",
      "   raw : ['BN.GSR.GNFS.CD_raw_20250516.csv']\n",
      "   proc: ['Net_trade_goods_services_1960_2024.csv']\n",
      "\n",
      "📂 FDI_net\n",
      "   raw : ['BN.KLT.DINV.CD_raw_20250516.csv']\n",
      "   proc: ['FDI_net_1960_2024.csv']\n"
     ]
    }
   ],
   "source": [
    "import pathlib, datetime as dt, requests, zipfile, io, shutil, pandas as pd\n",
    "\n",
    "# ---------------------------------------------------------------------------\n",
    "# 1. Config – macro‑trade‑investment indicators\n",
    "# ---------------------------------------------------------------------------\n",
    "TODAY   = dt.date.today().strftime(\"%Y%m%d\")\n",
    "ROOT    = pathlib.Path('/content/drive/MyDrive/WorldBank/India/MacroEconomics_Trade_Investment')\n",
    "\n",
    "INDICATORS = [\n",
    "    # code,                                 slug,                      value column\n",
    "    (\"NY.GNP.MKTP.CD\",      \"GNI_total\",                \"gni_usd_billions\"),\n",
    "    (\"NY.GNP.PCAP.KD.ZG\",   \"GNI_per_capita_growth\",    \"gni_per_capita_growth_pct\"),\n",
    "    (\"BN.GSR.GNFS.CD\",      \"Net_trade_goods_services\", \"net_trade_usd\"),\n",
    "    (\"BN.KLT.DINV.CD\",      \"FDI_net\",                  \"fdi_net_usd\"),\n",
    "]\n",
    "\n",
    "# ---------------------------------------------------------------------------\n",
    "# 2. Helper\n",
    "# ---------------------------------------------------------------------------\n",
    "def refresh(code, slug, value_col):\n",
    "    raw_dir  = ROOT / slug / 'raw'\n",
    "    proc_dir = ROOT / slug / 'processed'\n",
    "    raw_dir.mkdir(parents=True, exist_ok=True)\n",
    "    proc_dir.mkdir(parents=True, exist_ok=True)\n",
    "\n",
    "    wb_url = f\"https://api.worldbank.org/v2/en/indicator/{code}?downloadformat=csv\"\n",
    "    print(f\"\\n▶ {code}  ➜  {slug}\")\n",
    "\n",
    "    # --- download & save ONE raw CSV ----------------------------------------\n",
    "    r = requests.get(wb_url, timeout=120)\n",
    "    r.raise_for_status()\n",
    "    with zipfile.ZipFile(io.BytesIO(r.content)) as z:\n",
    "        csv_name = next(n for n in z.namelist() if n.startswith('API_') and n.endswith('.csv'))\n",
    "        raw_csv = raw_dir / f\"{code}_raw_{TODAY}.csv\"\n",
    "        # remove older raw files\n",
    "        for f in raw_dir.glob('*.csv'):\n",
    "            f.unlink()\n",
    "        with z.open(csv_name) as src, open(raw_csv, 'wb') as tgt:\n",
    "            shutil.copyfileobj(src, tgt)\n",
    "    print(\"   ✓ raw CSV:\", raw_csv.name)\n",
    "\n",
    "    # --- clean & reshape ----------------------------------------------------\n",
    "    df = pd.read_csv(raw_csv, skiprows=4)\n",
    "    df = df.drop(columns=['Country Code', 'Indicator Name', 'Indicator Code'])\n",
    "\n",
    "    tidy = (\n",
    "        df.melt(id_vars='Country Name', var_name='year', value_name=value_col)\n",
    "          .rename(columns={'Country Name': 'country'})\n",
    "    )\n",
    "    tidy['year']        = pd.to_numeric(tidy['year'], errors='coerce').astype('Int64')\n",
    "    tidy[value_col]     = pd.to_numeric(tidy[value_col], errors='coerce')\n",
    "    tidy                = tidy.dropna(subset=[value_col]).reset_index(drop=True)\n",
    "\n",
    "    # --- write ONE processed CSV -------------------------------------------\n",
    "    for f in proc_dir.glob('*.csv'):\n",
    "        f.unlink()\n",
    "    proc_csv = proc_dir / f\"{slug}_{tidy['year'].min()}_{tidy['year'].max()}.csv\"\n",
    "    tidy.to_csv(proc_csv, index=False)\n",
    "    print(\"   ✓ processed CSV:\", proc_csv.name)\n",
    "\n",
    "# ---------------------------------------------------------------------------\n",
    "# 3. Refresh all four indicators\n",
    "# ---------------------------------------------------------------------------\n",
    "for code, slug, valcol in INDICATORS:\n",
    "    refresh(code, slug, valcol)\n",
    "\n",
    "# ---------------------------------------------------------------------------\n",
    "# 4. Quick folder summary\n",
    "# ---------------------------------------------------------------------------\n",
    "for p in ROOT.iterdir():\n",
    "    if p.is_dir():\n",
    "        raws  = [f.name for f in (p/'raw').glob('*')]\n",
    "        procs = [f.name for f in (p/'processed').glob('*')]\n",
    "        print(f\"\\n📂 {p.name}\\n   raw : {raws}\\n   proc: {procs}\")\n"
   ]
  },
  {
   "cell_type": "markdown",
   "id": "364f3236",
   "metadata": {
    "id": "812MImhtosEq",
    "papermill": {
     "duration": 0.009629,
     "end_time": "2025-05-16T04:05:53.987717",
     "exception": false,
     "start_time": "2025-05-16T04:05:53.978088",
     "status": "completed"
    },
    "tags": []
   },
   "source": [
    "Merging datasets"
   ]
  },
  {
   "cell_type": "code",
   "execution_count": 4,
   "id": "4a929d41",
   "metadata": {
    "colab": {
     "base_uri": "https://localhost:8080/"
    },
    "execution": {
     "iopub.execute_input": "2025-05-16T05:18:08.536121Z",
     "iopub.status.busy": "2025-05-16T05:18:08.534490Z",
     "iopub.status.idle": "2025-05-16T05:18:09.159327Z",
     "shell.execute_reply": "2025-05-16T05:18:09.158510Z"
    },
    "executionInfo": {
     "elapsed": 513,
     "status": "ok",
     "timestamp": 1747144420004,
     "user": {
      "displayName": "Aayush",
      "userId": "06063773002916323156"
     },
     "user_tz": -330
    },
    "id": "tF6bL0WVorb5",
    "outputId": "1e7e0771-c699-4a12-eb78-62011099de2e",
    "papermill": {
     "duration": 0.460631,
     "end_time": "2025-05-16T04:05:54.457773",
     "exception": false,
     "start_time": "2025-05-16T04:05:53.997142",
     "status": "completed"
    },
    "tags": []
   },
   "outputs": [
    {
     "name": "stdout",
     "output_type": "stream",
     "text": [
      "✓ loaded GDP_total: rows=14307  →  column 'gdp_usd_billions'\n",
      "✓ loaded GDP_per_capita: rows=14312  →  column 'gdp_per_capita_usd'\n",
      "✓ loaded GDP_growth: rows=13883  →  column 'gdp_growth_pct'\n"
     ]
    },
    {
     "name": "stdout",
     "output_type": "stream",
     "text": [
      "✓ loaded Inflation_CPI: rows=11182  →  column 'inflation_pct'\n",
      "✓ loaded GNI_total: rows=13416  →  column 'gni_usd_billions'\n",
      "✓ loaded GNI_per_capita_growth: rows=6719  →  column 'gni_per_capita_growth_pct'\n",
      "✓ loaded Net_trade_goods_services: rows=7574  →  column 'net_trade_usd'\n",
      "✓ loaded FDI_net: rows=7078  →  column 'fdi_net_usd'\n"
     ]
    },
    {
     "name": "stdout",
     "output_type": "stream",
     "text": [
      "\n",
      "Merged rows: 14778\n"
     ]
    },
    {
     "name": "stdout",
     "output_type": "stream",
     "text": [
      "🚚 Combined dataset saved → /content/drive/MyDrive/WorldBank/India/Combined_Datasets/India_combined_indicators.csv\n"
     ]
    }
   ],
   "source": [
    "# =======================================================================\n",
    "# Combine all processed CSVs → one wide dataset\n",
    "# =======================================================================\n",
    "import pandas as pd, pathlib, datetime as dt, functools\n",
    "\n",
    "# -----------------------------------------------------------------------\n",
    "# 1. Map each indicator folder to its final column name\n",
    "# -----------------------------------------------------------------------\n",
    "BASE_WB = pathlib.Path('/content/drive/MyDrive/WorldBank/India')\n",
    "\n",
    "INDICATOR_MAP = {\n",
    "    # Economic_Indicators\n",
    "    'GDP_total'               : ('gdp_usd_billions',            'Economic_Indicators'),\n",
    "    'GDP_per_capita'          : ('gdp_per_capita_usd',          'Economic_Indicators'),\n",
    "    'GDP_growth'              : ('gdp_growth_pct',              'Economic_Indicators'),\n",
    "    'Inflation_CPI'           : ('inflation_pct',               'Economic_Indicators'),\n",
    "\n",
    "    # MacroEconomics_Trade_Investment\n",
    "    'GNI_total'               : ('gni_usd_billions',            'MacroEconomics_Trade_Investment'),\n",
    "    'GNI_per_capita_growth'   : ('gni_per_capita_growth_pct',   'MacroEconomics_Trade_Investment'),\n",
    "    'Net_trade_goods_services': ('net_trade_usd',               'MacroEconomics_Trade_Investment'),\n",
    "    'FDI_net'                 : ('fdi_net_usd',                 'MacroEconomics_Trade_Investment'),\n",
    "}\n",
    "\n",
    "frames = []\n",
    "\n",
    "for slug, (colname, family) in INDICATOR_MAP.items():\n",
    "    proc_dir = BASE_WB / family / slug / 'processed'\n",
    "    csv_files = list(proc_dir.glob('*.csv'))\n",
    "    if not csv_files:\n",
    "        print(f\"⚠️  No processed CSV found for {slug}. Skipping.\")\n",
    "        continue\n",
    "    csv_path = csv_files[0]                   # only one by design\n",
    "    df = pd.read_csv(csv_path)\n",
    "\n",
    "    # keep only common + value col, rename value\n",
    "    df = df[['country', 'year', df.columns.difference(['country','year'])[0]]]\n",
    "    df = df.rename(columns={df.columns[-1]: colname})\n",
    "    frames.append(df)\n",
    "\n",
    "    print(f\"✓ loaded {slug}: rows={len(df)}  →  column '{colname}'\")\n",
    "\n",
    "# -----------------------------------------------------------------------\n",
    "# 2. Merge all on (country, year)\n",
    "# -----------------------------------------------------------------------\n",
    "def merge_two(left, right):\n",
    "    return pd.merge(left, right, on=['country','year'], how='outer')\n",
    "\n",
    "combined = functools.reduce(merge_two, frames)\n",
    "\n",
    "# ensure consistent order\n",
    "final_cols = ['country', 'year'] + [INDICATOR_MAP[k][0] for k in INDICATOR_MAP]\n",
    "combined = combined[final_cols]\n",
    "\n",
    "print(\"\\nMerged rows:\", len(combined))\n",
    "\n",
    "# -----------------------------------------------------------------------\n",
    "# 3. Save combined data  ➜  always the same filename\n",
    "# -----------------------------------------------------------------------\n",
    "COMB_DIR = BASE_WB / 'Combined_Datasets'\n",
    "COMB_DIR.mkdir(exist_ok=True)\n",
    "\n",
    "for f in COMB_DIR.glob('*.csv'):     # remove any earlier combined file(s)\n",
    "    f.unlink()\n",
    "\n",
    "out_path = COMB_DIR / \"India_combined_indicators.csv\"   # ← static name\n",
    "combined.to_csv(out_path, index=False)\n",
    "\n",
    "print(\"🚚 Combined dataset saved →\", out_path)\n"
   ]
  }
 ],
 "metadata": {
  "colab": {
   "authorship_tag": "ABX9TyPbQC2d46LWupTL9VDJcpPM",
   "provenance": []
  },
  "kernelspec": {
   "display_name": "Python 3",
   "name": "python3"
  },
  "language_info": {
   "codemirror_mode": {
    "name": "ipython",
    "version": 3
   },
   "file_extension": ".py",
   "mimetype": "text/x-python",
   "name": "python",
   "nbconvert_exporter": "python",
   "pygments_lexer": "ipython3",
   "version": "3.11.12"
  },
  "papermill": {
   "default_parameters": {},
   "duration": 137.796732,
   "end_time": "2025-05-16T04:05:54.979153",
   "environment_variables": {},
   "exception": null,
   "input_path": "/content/drive/MyDrive/Colab Notebooks/RAW-file-fetch.ipynb",
   "output_path": "/content/drive/MyDrive/Colab Notebooks/RAW-file-fetch.ipynb",
   "parameters": {},
   "start_time": "2025-05-16T04:03:37.182421",
   "version": "2.6.0"
  }
 },
 "nbformat": 4,
 "nbformat_minor": 5
}
